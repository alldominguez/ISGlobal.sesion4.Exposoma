{
  "nbformat": 4,
  "nbformat_minor": 0,
  "metadata": {
    "colab": {
      "provenance": [],
      "include_colab_link": true
    },
    "kernelspec": {
      "name": "ir",
      "display_name": "R"
    },
    "language_info": {
      "name": "R"
    }
  },
  "cells": [
    {
      "cell_type": "markdown",
      "metadata": {
        "id": "view-in-github",
        "colab_type": "text"
      },
      "source": [
        "<a href=\"https://colab.research.google.com/github/alldominguez/ISGlobal.sesion4.Exposoma/blob/main/curso_exposoma_modulo_4.ipynb\" target=\"_parent\"><img src=\"https://colab.research.google.com/assets/colab-badge.svg\" alt=\"Open In Colab\"/></a>"
      ]
    },
    {
      "cell_type": "markdown",
      "source": [
        "# **Introducción al concepto del Exposoma y sus metodologías. Sesión 4 - \"Estrategias para el análisis de datos de Exposoma.\"**  \n",
        "\n",
        "<img src=\"https://github.com/alldominguez/ISGlobal.sesion4.Exposoma/blob/main/figures/isglobal.png?raw=1\" alt=\"ISGlobal logo\" width=\"300\"/>  \n",
        "\n",
        "<img src=\"https://github.com/alldominguez/ISGlobal.sesion4.Exposoma/blob/main/figures/exposoma.png?raw=1\" alt=\"ISGlobal logo\" width=\"500\"/>\n",
        "\n",
        "**Alan Domínguez**, Investigador Predoctoral del Instituto de Salud Global de Barcelona - ISGlobal.  \n",
        "**Augusto Anguita-Ruiz**, Investigador Postdoctoral del Instituto de Salud Global de Barcelona - ISGlobal.  \n",
        "\n",
        "El exposoma, descrito como \"la totalidad de las exposiciones ambientales humanas desde la concepción en adelante\", reconoce que los individuos estamos expuestos simultaneamente a multiples factores ambientales diferentes adoptando un efoque holístico para el descubrimento de factores etiológicos de la enfermedad. La ventaja prinicipal del enfoque del exposoma sobre otros más tradicionales \"una exposición, una enfermedad o desenlace de salud\" es que proporciona un framework para el estudio de múltiples riesgos ambientales (urbanos, químicos, estilo de vida, sociales, etc...) y sus efectos combinados.\n",
        "\n",
        "El **objetivo** de esta sesión es ofrecer una **introducción a los distintos abordajes estadístico**s necesarios para responder a las principales cuestiones de investigación en exposoma, por lo que esta sesión se :\n",
        "\n",
        "**1.- Análisis descriptivo:**  En una primera parte de la sesión se trabajará sobre el concepto de análisis descriptivo en exposómica, mediante el cual se extraen las primeras conclusiones sobre los datos. Entre otros objetivos, el análisis descriptivo persigue identificar posibles valores anómalos, factores de confusión o variables que requieran de transformaciones previas al análisis. A su vez, el análisis descriptivo permite comparar preliminarmente los grupos experimentales objeto de estudio, estudiar los patrones de correlación existentes entre factores de exposición, e identificar fenómenos de agrupación en los datos (tanto a nivel de individuos como de características). Todos ellos, pasos imprescindibles para elegir el abordaje estadístico posterior más adecuado.\n",
        "\n",
        "**2.- Análisis de asociación:** El análisis de asociación persigue la identificación de los posibles factores de exposición ambiental asociados con distintos parámetros de salud. En este bloque de la sesión se presentarán por lo tanto distintos abordajes analíticos holísticos centrados en el estudio de los efectos de múltiples factores de exposición y sus mezclas sobre la salud. Esto incluye principalmente modelos como el ExWAS (Exposome-Wide Association Analysis), u otros para el estudio de interacciones, o fenómenos de no linealidad (e.g., Bayesian Kernel Machine Regression). También se presentará una introducción a los métodos de clustering o mezclas de exposición (e.g., Weighted Quantile Sum Regression). Durante su estudio, se introducirán conceptos de gran importancia en el análisis del exposoma como son la selección de características o la corrección de testeo múltiple.\n"
      ],
      "metadata": {
        "id": "Dqcog9uUbeZk"
      }
    },
    {
      "cell_type": "markdown",
      "source": [
        "# **Recordatorio: Introducción a NoteBook**\n",
        "\n",
        "Dentro de este cuaderno (*NoteBook*), se le guiará paso a paso desde la carga de un conjunto de datos hasta el análisis descriptivo de su contenido.\n",
        "\n",
        "El cuaderno de *Jupyter* (Python) es un enfoque que combina bloques de texto (como éste) junto con bloques o celdas de código. La gran ventaja de este tipo de celdas, es su interactividad, ya que pueden ser ejecutadas para comprobar los resultados directamente sobre las mismas. *Muy importante*: **el orden las instrucciones es fundamental**, por lo que cada celda de este cuaderno debe ser ejecutada secuencialmente. En caso de omitir alguna, puede que el programa lance un error, así que se deberá comenzar desde el principio en caso de duda.\n",
        "\n",
        "Antes de nada:\n",
        "\n",
        "Es **muy muy importante** que al comienzo se seleccione **\"*Abrir en modo de ensayo*\" (draft mode)**, arriba a la izquierda. En caso contrario, no permitirá ejecutar ningún bloque de código, por cuestiones de seguridad. Cuando se ejecute el primero de los bloques, aparecerá el siguiente mensaje: \"*Advertencia: Este cuaderno no lo ha creado Google.*\". No se preocupe, deberá confiar en el contenido del cuaderno (*NoteBook*) y pulsar en \"Ejecutar de todos modos\".\n",
        "\n",
        "¡Ánimo!\n",
        "\n",
        "Haga clic en el botón \"play\" en la parte izquierda de cada celda de código. Las líneas de código que comienzan con un hashtag (#) son comentarios y no afectan a la ejecución del programa.\n",
        "\n",
        "También puede pinchar sobre cada celda y hacer \"*ctrl+enter*\" (*cmd+enter* en Mac).\n",
        "\n",
        "Cada vez que ejecute un bloque, verá la salida justo debajo del mismo. La información suele ser siempre la relativa a la última instrucción, junto con todos los `print()` (orden para imprimir) que haya en el código."
      ],
      "metadata": {
        "id": "EKKM1PhGbg9e"
      }
    },
    {
      "cell_type": "markdown",
      "source": [
        "## **ÍNDICE**\n",
        "\n",
        "En este *notebook*:\n",
        "1. Aprenderemos ....\n",
        "2. Plantearemos sus ....\n",
        "    \n",
        "Contenidos:\n",
        "1. [Instalación del entorno R y sus bibliotecas para el análisis de exposoma](#instalacion-librerias)    \n",
        "2. [Cargar los datos](#cargar-datos)\n",
        "4. [Análisis descriptivo del Exposoma](#descriptivo)   \n",
        "5. [Visualización](#etiquetaD)\n",
        "6. [ExWAS...](#etiquetaE)  \n",
        "7. [Mixtures....](#etiquetaF)   \n",
        "8. [Bibliografía](#etiquetaG)"
      ],
      "metadata": {
        "id": "SLQByQt6boyV"
      }
    },
    {
      "cell_type": "markdown",
      "source": [
        "## **1. Instalación del entorno R y librerias para el análisis del exposoma** <a name=\"instalacion-librerias\"></a>\n",
        "\n",
        "A continuación, instalamos/cargamos las librerias necesarias para esta sesión. En el contexto de análisis de exposoma, las bibliotecas de R nos ofrecen una manera mucho más cómoda de procesar, manipular y analizar los datos. Algunas de estas bibliotecas: `tidyverse`, `skimr`, `rexposome`, `bkmr`,  `gWQS`.   \n",
        "  \n",
        "La instalación de R en nuestro entorno de Google Colab se realizará en el siguiente bloque de código. Hay que recordar que todas las instalaciones de bibliotecas que realicemos en el entorno de Google Colab solo permanecerán activas unas pocas horas, después de las cuales las bibliotecas instaladas se eliminan. Por lo tanto, será necesario que vuelvas a ejecutar los códigos de instalación de bibliotecas de esta sección cuando necesites ejecutar de nuevo notebook pasado este tiempo.\n",
        "\n",
        "Por último, recordemos que cuando una celda utiliza código de R esto se indica mediante la simbología %%R en los notebooks de Python. Quitándo dicha línea, que sirve para indicar que lo que sigue en el notebook está escrito en R, podríamos ejecutar las mismas instrucciones en cualquier entorno de R distinto al notebook sin problemas. Por ejemplo, en nuestra propia máquina Windows, Linux, MacOS utilizando nuestra instalación local de R y RStudio.\n",
        "\n",
        "El siguiente trozo de código, correspondiente a la instalación de R, es exclusivo al uso de los notebooks de Colab y sería equivalente a instalar R y RStudio en nuestras máquinas:"
      ],
      "metadata": {
        "id": "FzcR99tI-Yhe"
      }
    },
    {
      "cell_type": "code",
      "source": [
        "# primero chequeamos la version de R que tenemos\n",
        "R.Version()"
      ],
      "metadata": {
        "id": "72VUo583KVQE"
      },
      "execution_count": null,
      "outputs": []
    },
    {
      "cell_type": "markdown",
      "source": [
        "* **Instalar/cargar librerias para la sesión**\n",
        "\n",
        "Instalaremos/cargaremos las librerias necesarias para la sesión práctica, para esto utilizaremos el paquete `pacman`, este paquete es una herramienta de administración que combina funcionalidades de las funciones `install.packages` + `library`\n",
        "\n",
        "\n",
        "\n",
        "\n",
        "\n"
      ],
      "metadata": {
        "id": "QMFsFs-2KPCA"
      }
    },
    {
      "cell_type": "code",
      "source": [
        "install.packages(\"pacman\") # nos permite instalar/cargar paquetes de manera simultanea"
      ],
      "metadata": {
        "id": "Qhzv4rIHLHzm"
      },
      "execution_count": null,
      "outputs": []
    },
    {
      "cell_type": "markdown",
      "source": [
        "Instalaremos `BiocManager` y `rexposome` (estos dos paquetes son fundamentales para el análsis del exposoma), utilizando el siguiente código ya que algunas veces suele tener problemas de compatibilidad con la versión de R (el proceso tarda alrededor de 15 minutos, por lo que se recomienda instalarla durante la sesión teórica."
      ],
      "metadata": {
        "id": "bGVMG60NMEiF"
      }
    },
    {
      "cell_type": "code",
      "source": [
        "if (!requireNamespace(\"BiocManager\", quietly=TRUE))\n",
        "    install.packages(\"BiocManager\")\n",
        "\n",
        "packages = c('Biobase', 'mice', 'MultiDataSet', 'lsr', 'FactoMineR',\n",
        "\t'stringr', 'circlize', 'corrplot', 'ggplot2', 'reshape2', 'pryr',\n",
        "\t'scales', 'imputeLCMD', 'scatterplot3d', 'glmnet', 'gridExtra',\n",
        "\t'grid', 'Hmisc', 'gplots', 'gtools', 'S4Vectors'\n",
        ")\n",
        "for( pkg in packages ) {\n",
        "  if( !pkg %in% rownames( installed.packages() ) ) {\n",
        "    message( \"Installing \", pkg )\n",
        "    BiocManager::install( pkg )\n",
        "  }\n",
        "}"
      ],
      "metadata": {
        "id": "G1VMrFw4E9kD"
      },
      "execution_count": null,
      "outputs": []
    },
    {
      "cell_type": "code",
      "source": [
        "# instalamos rexposome\n",
        "install.packages(\"devtools\")\n",
        "devtools::install_github(\"isglobal-brge/rexposome\")"
      ],
      "metadata": {
        "id": "ELKoTpL2FE4y"
      },
      "execution_count": null,
      "outputs": []
    },
    {
      "cell_type": "code",
      "source": [
        "# para aquellos que tienen una version antigua de R (en el caso de usar Rstudio desktop)\n",
        "devtools::install_github(\"isglobal-brge/rexposome\", ref=\"R-3.0\")"
      ],
      "metadata": {
        "id": "gwcR7U1iKLYz"
      },
      "execution_count": null,
      "outputs": []
    },
    {
      "cell_type": "code",
      "source": [
        "if (!require(\"BiocManager\", quietly = TRUE))\n",
        "    install.packages(\"BiocManager\")\n",
        "BiocManager::install(\"rexposome\")"
      ],
      "metadata": {
        "id": "MxnLKqmcGp6f"
      },
      "execution_count": null,
      "outputs": []
    },
    {
      "cell_type": "code",
      "source": [
        "BiocManager::install(\"rexposome\")"
      ],
      "metadata": {
        "id": "Eexbo2leEfTl"
      },
      "execution_count": null,
      "outputs": []
    },
    {
      "cell_type": "code",
      "source": [
        "# Añadimos todas las librerias que necesitemos utilizar (si el paquete ya esta instalado, automaticamente cargara el paquete si esta en la funcion pacman::p_load())\n",
        "pacman::p_load(tidyverse, corrplot, RColorBrewer, skimr, BiocManager, rexposome, bkmr, gWQS, ggridges)"
      ],
      "metadata": {
        "id": "0bd6Fmjy7LNA"
      },
      "execution_count": 99,
      "outputs": []
    },
    {
      "cell_type": "markdown",
      "source": [
        "## **2. Cargar los datos** <a name=\"cargar-datos\"></a>\n",
        "\n",
        "A continuación, se muestran las **líneas de código** necesarias para **cargar** en el entorno de R el conjunto de datos de Exposoma. Para esta sesión práctica utilizaremos datos del estudio de exposoma HELIX. El estudio HELIX es un projecto colaborativo entre seis estudios longitudinales de cohortes de nacimiento basados en la población de seis paises Europeos (Francia, Grecia, Lituania, Noruega, Españana y Reino Unido).\n",
        "\n",
        "<img src=\"https://github.com/alldominguez/ISGlobal.sesion4.Exposoma/blob/main/figures/HELIX.png?raw=1\" alt=\"HELIX logo\" width=\"500\"/>\n",
        "\n",
        "**Nota:** Los datos proporcionados en este curso introductorio fueron simulados a partir de los datos de la subcohorte HELIX. Detalles del projecto HELIX y el origen de los datos colectados pueden ser consultados en la siguiente publicación: https://bmjopen.bmj.com/content/8/9/e021311 y website: https://www.projecthelix.eu/es.\n",
        "\n",
        "* Los **datos de exposoma (n = 1301)** que utilizaremos estan contenidos en un archivo Rdata, el archivo contiene los siguientes ficheros:\n",
        "\n",
        "1. `phenotype` (outcomes)\n",
        "2. `exposome` (exposiciones)\n",
        "3. `covariates` (covariables)\n",
        "\n",
        "La descripción de cada variable (nombre, estructura, tipo de variable, transformacion, ...) esta detallada en el [codebook](https://github.com/alldominguez/ISGlobal.sesion4.Exposoma/blob/main/data/codebook.csv).\n",
        "\n",
        "\n",
        "La primera línea de cada fichero de datos (cabecera de la tabla) incluye los nombres de todas las variables separadas por comas, correspondiendo cada nombre con cada una de las columnas anteriormente mencionadas. Igualmente, para los archivos de fenotipos, covariables y exposoma, el resto de líneas del fichero (filas de la tabla) incluyen valores numéricos separados por comas (siendo de vital importancia que dicha información numérica vaya en formato inglés, porque los algoritmos que utilizaremos usan dicho formato y podrían confundir la coma de separación de datos con lo que sería la coma decimal en Español). A partir de la segunda línea del fichero, cada línea (fila de la tabla) contiene la información relativa a un niño. El tipo de fichero ideal para tal fin es el **CSV**, ya que puede ser fácilmente generado o editado desde *Microsoft Excel* u *OpenOffice Calc*. En nuestro caso, dado que han sido guardados Excel en español, debemos leerlos con la funcion read.csv2 (de tal forma que las comas sean codificadas de forma adecuada para su análisis posterior).\n",
        "\n",
        "Los datos se encuentran disponibles vía *Google Drive*. No obstante, si estuviésemos en local con *RStudio* y/o con otro fichero de datos, sólo tendríamos que cambiar *url(\"https://drive.google...\")* por *\\\"\\<Unidad\\>:\\\\\\<Ruta\\>\\\\\\<fichero\\>\\\"* (Ej: *\\\"C:\\\\Datos\\\\phenotype.csv\\\"* en el caso de un sistema operativo *Windows*)."
      ],
      "metadata": {
        "id": "DsoalTRZdIdV"
      }
    },
    {
      "cell_type": "markdown",
      "source": [
        "**1.-** Cargamos los datos necesarios para la sesión"
      ],
      "metadata": {
        "id": "VSUqs-A60QcI"
      }
    },
    {
      "cell_type": "code",
      "source": [
        "# Opción 1 (cargamos las bases de datos como archivos csv)\n",
        "phenotype <- read.csv2(url(\"https://raw.githubusercontent.com/alldominguez/ISGlobal.sesion4.Exposoma/main/data/phenotype.csv\"),  header = TRUE) # outcomes\n",
        "exposome <- read.csv2(url(\"https://raw.githubusercontent.com/alldominguez/ISGlobal.sesion4.Exposoma/main/data/exposome.csv\"), header = TRUE) # exposiciones\n",
        "covariates <- read.csv2(url(\"https://raw.githubusercontent.com/alldominguez/ISGlobal.sesion4.Exposoma/main/data/covariates.csv\"), header = TRUE) # covariables\n",
        "codebook <- read.csv2(url(\"https://raw.githubusercontent.com/alldominguez/ISGlobal.sesion4.Exposoma/main/data/codebook.csv\")) # codebook"
      ],
      "metadata": {
        "id": "QdsjN_rcoB6i"
      },
      "execution_count": null,
      "outputs": []
    },
    {
      "cell_type": "code",
      "source": [
        "# Opción 2 (cargamos un archivo RData, este archivo contiene los 3 dataset + el codebook)\n",
        "load(url(\"https://raw.githubusercontent.com/alldominguez/ISGlobal.sesion4.Exposoma/main/data/exposome.RData\")) #con esta línea cargamos todo"
      ],
      "metadata": {
        "id": "b8Pc3sqpcpVN"
      },
      "execution_count": 39,
      "outputs": []
    },
    {
      "cell_type": "code",
      "source": [
        "phenotype\n",
        "exposome\n",
        "covariates\n",
        "codebook"
      ],
      "metadata": {
        "id": "TD37CVA45ObF"
      },
      "execution_count": null,
      "outputs": []
    },
    {
      "cell_type": "markdown",
      "source": [
        "**2.-** Revisamos la estructura y dimensión de los datos"
      ],
      "metadata": {
        "id": "F---b4Tg0nMC"
      }
    },
    {
      "cell_type": "code",
      "source": [
        "dplyr::glimpse(phenotype) # 1301 observaciones"
      ],
      "metadata": {
        "id": "V56avl4L0oIm"
      },
      "execution_count": null,
      "outputs": []
    },
    {
      "cell_type": "code",
      "source": [
        "dplyr::glimpse(exposome) # 1301 observaciones"
      ],
      "metadata": {
        "id": "M1HTY6qyiME0"
      },
      "execution_count": null,
      "outputs": []
    },
    {
      "cell_type": "code",
      "source": [
        "dplyr::glimpse(covariates) # 1301 observaciones"
      ],
      "metadata": {
        "id": "arEb9MuXiN3a"
      },
      "execution_count": null,
      "outputs": []
    },
    {
      "cell_type": "code",
      "source": [
        "dplyr::glimpse(codebook) # este archivo contiene el codebook con la descripción de cada variable"
      ],
      "metadata": {
        "id": "yj3AWIN2iOoM"
      },
      "execution_count": null,
      "outputs": []
    },
    {
      "cell_type": "markdown",
      "source": [
        "* Si cargamos los archivos csv tenemos que hacer un paso adicional"
      ],
      "metadata": {
        "id": "h4rNuWL5vUET"
      }
    },
    {
      "cell_type": "code",
      "source": [
        "rownames(codebook) <- codebook[, 2]\n",
        "codebook <- codebook[, -1]"
      ],
      "metadata": {
        "id": "QE17_rg4EmFK"
      },
      "execution_count": null,
      "outputs": []
    },
    {
      "cell_type": "code",
      "source": [
        "dplyr::glimpse(codebook)"
      ],
      "metadata": {
        "id": "eqBMjplwE78X"
      },
      "execution_count": null,
      "outputs": []
    },
    {
      "cell_type": "markdown",
      "source": [
        "**3.-** Hacemos un resumen rápido de nuestros datos, para revisar si estos se cargaron correctamente."
      ],
      "metadata": {
        "id": "5n4_4MiACEFw"
      }
    },
    {
      "cell_type": "code",
      "source": [
        "skimr::skim(phenotype)"
      ],
      "metadata": {
        "id": "T6wYtacMCCas"
      },
      "execution_count": null,
      "outputs": []
    },
    {
      "cell_type": "code",
      "source": [
        "skimr::skim(exposome)"
      ],
      "metadata": {
        "id": "zdlJMI0YDK07"
      },
      "execution_count": null,
      "outputs": []
    },
    {
      "cell_type": "code",
      "source": [
        "skimr::skim(covariates)"
      ],
      "metadata": {
        "id": "_pOnBXcKoo6u"
      },
      "execution_count": null,
      "outputs": []
    },
    {
      "cell_type": "code",
      "source": [
        "skimr::skim(codebook)"
      ],
      "metadata": {
        "id": "C6MSLwyDDTIq"
      },
      "execution_count": null,
      "outputs": []
    },
    {
      "cell_type": "markdown",
      "source": [
        "*   Vamos a utilizar la función `rexposome::loadExposome` para crear un solo dataset (`ExposomeSet`) a traves de los `data.frames` que cargamos inicialmente. Primero ordenaremos los datos en el formato adecuado para nuestro análisis.\n",
        "\n",
        "\n"
      ],
      "metadata": {
        "id": "MXHfytb70y_9"
      }
    },
    {
      "cell_type": "code",
      "source": [
        "levels(codebook$family)"
      ],
      "metadata": {
        "id": "k56Rid0N8VUe"
      },
      "execution_count": null,
      "outputs": []
    },
    {
      "cell_type": "code",
      "source": [
        "# Hacemos un subset de las variables para fines ilustrativos (puedes probar con otras familias)\n",
        "expo.list <- as.character(codebook$variable_name[(codebook$family == \"Organochlorines\" |\n",
        "                                                  codebook$family == \"Metals\" |\n",
        "                                                 #codebook$family == \"Chemicals\" |\n",
        "                                                  codebook$family == \"Air Pollution\" |\n",
        "                                                  codebook$family == \"Indoor air\" |\n",
        "                                                  codebook$family == \"Built environment\") &\n",
        "                                                  codebook$period == \"Postnatal\"])\n",
        "expo.list"
      ],
      "metadata": {
        "id": "MLP0jS6y036s"
      },
      "execution_count": null,
      "outputs": []
    },
    {
      "cell_type": "code",
      "source": [
        "# podemos probar con otro subset\n",
        "expo.list <- as.character(codebook$variable_name[(codebook$family == \"Organochlorines\" |\n",
        "                                                  codebook$family == \"Metals\" |\n",
        "                                                  codebook$family == \"Air Pollution\" |\n",
        "                                                  codebook$family == \"Built environment\") &\n",
        "                                                  codebook$period == \"Postnatal\"])\n",
        "expo.list"
      ],
      "metadata": {
        "id": "5pBtjL8O39R2"
      },
      "execution_count": null,
      "outputs": []
    },
    {
      "cell_type": "code",
      "source": [
        "# podemos excluir algunas variables de exposición en las que no tenemos interes\n",
        "expo.list <- expo.list[-which(expo.list == \"hs_tl_cdich_None\")]\n",
        "expo.list <- expo.list[-which(expo.list == \"hs_sumPCBs5_cadj_Log2\")]"
      ],
      "metadata": {
        "id": "qrXwaUJyDClV"
      },
      "execution_count": 45,
      "outputs": []
    },
    {
      "cell_type": "code",
      "source": [
        "# seleccionamos columnas(variables) específicas provenientes de las familias que seleccionamos en el paso anterior y añadimos la variable ID\n",
        "expo2 <- exposome[ ,c(\"ID\", expo.list)]"
      ],
      "metadata": {
        "id": "dpN23_pLDE6G"
      },
      "execution_count": 46,
      "outputs": []
    },
    {
      "cell_type": "code",
      "source": [
        "# revisamos las variables seleccionadas\n",
        "dplyr::glimpse(expo2)"
      ],
      "metadata": {
        "id": "Z7-scXNXr9D9"
      },
      "execution_count": null,
      "outputs": []
    },
    {
      "cell_type": "code",
      "source": [
        "# listado de variables de exposición\n",
        "codebook[expo.list,]$labels"
      ],
      "metadata": {
        "id": "wj_KEEH44yh4"
      },
      "execution_count": null,
      "outputs": []
    },
    {
      "cell_type": "markdown",
      "source": [
        "* Combinamos datos de los ficheros `phenotype` y `covariates`"
      ],
      "metadata": {
        "id": "pMHdSPu9tLSW"
      }
    },
    {
      "cell_type": "code",
      "source": [
        "dat <- cbind(hs_zbmi_who = phenotype[ ,4],  # seleccionamos la 4 columna del dataframe phenotype y la llamamos hs_zbmi_who\n",
        "             covariates[ ,2:13])  # seleccionamos de las columnas 2 a la 13 del dataframe covariates\n",
        "\n",
        "# luego combinamos\n",
        "data <- data.frame(expo2, dat)"
      ],
      "metadata": {
        "id": "14mKhYaK9TSY"
      },
      "execution_count": 49,
      "outputs": []
    },
    {
      "cell_type": "code",
      "source": [
        "# revisamos la base de datos generadas\n",
        "dplyr::glimpse(data)"
      ],
      "metadata": {
        "id": "2pXJumphuMQL"
      },
      "execution_count": null,
      "outputs": []
    },
    {
      "cell_type": "code",
      "source": [
        "str(data)"
      ],
      "metadata": {
        "id": "ZUwbrBUn0qsk"
      },
      "execution_count": null,
      "outputs": []
    },
    {
      "cell_type": "markdown",
      "source": [
        "* Ahora crearemos nuestro objecto `ExposomeSet` combinando nuestros tres archivos que trabajamos en las líneas anteriores.\n"
      ],
      "metadata": {
        "id": "wGYELXL585Pq"
      }
    },
    {
      "cell_type": "code",
      "source": [
        "exp <- rexposome::loadExposome(\n",
        "  exposures = expo2[expo.list],\n",
        "  description = codebook[expo.list,],\n",
        "  phenotype = dat,\n",
        "  description.famCol = \"family\"\n",
        "  )"
      ],
      "metadata": {
        "id": "gfPn1eg0oHX1"
      },
      "execution_count": 73,
      "outputs": []
    },
    {
      "cell_type": "code",
      "source": [
        "dplyr::glimpse(exp)"
      ],
      "metadata": {
        "id": "dWcs9rj-LIXR"
      },
      "execution_count": null,
      "outputs": []
    },
    {
      "cell_type": "markdown",
      "source": [
        "* Tambien podemos unir nuestras bases de datos usando la función `dplyr::inner_join`, este objecto llamado `exp_all` sera un `data.frame` y no un objecto `ExposomeSet` por lo que no podremos utilizar todas las funcionalidades del paquete `rexposome`"
      ],
      "metadata": {
        "id": "HGHaJtnrCbh1"
      }
    },
    {
      "cell_type": "code",
      "source": [
        "# con esta línea podemos unir todas las bases de datos utilizando ID como la key variable\n",
        "exp_all <- phenotype %>%\n",
        "           dplyr::inner_join(exposome, by = \"ID\") %>%\n",
        "           dplyr::inner_join(covariates, by = \"ID\")"
      ],
      "metadata": {
        "id": "OHbV4XfSCGI6"
      },
      "execution_count": 54,
      "outputs": []
    },
    {
      "cell_type": "code",
      "source": [
        "dplyr::glimpse(exp_all)"
      ],
      "metadata": {
        "id": "_U3HA2eR72mP"
      },
      "execution_count": null,
      "outputs": []
    },
    {
      "cell_type": "markdown",
      "source": [
        "## **3.- Análisis descriptivo del Exposoma** <a name=\"descriptivo\"></a>\n",
        "\n",
        "Para el análsis descriptivo del exposoma vamos a utilizar la libreria `rexposome`. Esta libreria contiene diferentes funciones diseñadas para explorar y describir datos de exposoma (missing data, distribución, correlación). Algunas de sus funciones son: `normalityTest` ,`plotMissing`, `plotHistogram`, `plotFamily`, `correlation`, `plotCorrelation`."
      ],
      "metadata": {
        "id": "p4hBPIMPn1_i"
      }
    },
    {
      "cell_type": "code",
      "source": [
        "# revisamos la base de datos que utilizaremos (es necesario que sea un ExposomeSet object)\n",
        "str(exp)"
      ],
      "metadata": {
        "id": "XmUwWHGjKW61"
      },
      "execution_count": null,
      "outputs": []
    },
    {
      "cell_type": "markdown",
      "source": [
        "Utilizaremos la función `rexposome::normaltyTest` para evaluar las variables del exposoma que siguen una distribción normal."
      ],
      "metadata": {
        "id": "BwL4phGE-g6J"
      }
    },
    {
      "cell_type": "code",
      "source": [
        "nm <- rexposome::normalityTest(exp)\n",
        "table(nm$normality)"
      ],
      "metadata": {
        "id": "UfWf6E2Z-hzc"
      },
      "execution_count": null,
      "outputs": []
    },
    {
      "cell_type": "code",
      "source": [
        "# revisamos todas las variables que no tienen una distribución normal\n",
        "nm$exposure[!nm$normality]"
      ],
      "metadata": {
        "id": "QQK9M14g-Kgg"
      },
      "execution_count": null,
      "outputs": []
    },
    {
      "cell_type": "markdown",
      "source": [
        "Utilizando la función `plotHistogram` revisamos la distribución de las variables categroricas y continuas de nuestra base de datos.\n",
        "\n"
      ],
      "metadata": {
        "id": "dY5pZ_RzD26c"
      }
    },
    {
      "cell_type": "code",
      "source": [
        "rexposome::plotHistogram(exp, select = \"hs_pm25_yr_hs_h_None\") + ggtitle(\"Exposure to PM25 year before to the clinical assessment\")"
      ],
      "metadata": {
        "id": "hgz8BKimOe72"
      },
      "execution_count": null,
      "outputs": []
    },
    {
      "cell_type": "markdown",
      "source": [
        "Utilizando la función `plotFamily` podemos describir una exposición por familia  y estratificar por grupo. A continuación vamos a ver algunos ejemplos (pueden probar con otras familias)"
      ],
      "metadata": {
        "id": "fqk6kFQm6hoy"
      }
    },
    {
      "cell_type": "markdown",
      "source": [
        "* **Contaminantes Organoclorados** estratificado por **Sexo**"
      ],
      "metadata": {
        "id": "F1gDctgs9dlh"
      }
    },
    {
      "cell_type": "code",
      "source": [
        "# La función plotFamily genera un objecto ggplot\n",
        "rexposome::plotFamily(exp, family = \"Organochlorines\", group = \"e3_sex_None\") +\n",
        "   xlab('Contaminante') +\n",
        "   ylab('Concentracion')"
      ],
      "metadata": {
        "id": "B-_gzamw5sBD"
      },
      "execution_count": null,
      "outputs": []
    },
    {
      "cell_type": "markdown",
      "source": [
        "* **Contaminantes Organoclorados** estratificado por **Cohorte**"
      ],
      "metadata": {
        "id": "Bxmt0VNq9hLM"
      }
    },
    {
      "cell_type": "code",
      "source": [
        "rexposome::plotFamily(exp, family = \"Organochlorines\", group = \"h_cohort\") +\n",
        "                      xlab('Contaminante') +\n",
        "                      ylab('Concentracion')"
      ],
      "metadata": {
        "id": "6HUX52cK7bvm"
      },
      "execution_count": null,
      "outputs": []
    },
    {
      "cell_type": "markdown",
      "source": [
        "* **Contaminación del aire interior** estratificado por **Cohorte**"
      ],
      "metadata": {
        "id": "0OfOm8WC923C"
      }
    },
    {
      "cell_type": "code",
      "source": [
        "rexposome::plotFamily(exp, family = \"Indoor air\", group = \"h_cohort\")"
      ],
      "metadata": {
        "id": "pX6Uq68Q0Emz"
      },
      "execution_count": null,
      "outputs": []
    },
    {
      "cell_type": "markdown",
      "source": [
        "* **Metales** estratificados por **Cohorte**"
      ],
      "metadata": {
        "id": "5HFR7WAp-UnC"
      }
    },
    {
      "cell_type": "code",
      "source": [
        "rexposome::plotFamily(exp, family = \"Metals\", group = \"h_cohort\")"
      ],
      "metadata": {
        "id": "FRiO9Gm6K1rD"
      },
      "execution_count": null,
      "outputs": []
    },
    {
      "cell_type": "markdown",
      "source": [],
      "metadata": {
        "id": "lU4NTw_uQd54"
      }
    },
    {
      "cell_type": "code",
      "source": [
        "exp_std <- rexposome::standardize(exp, method = \"normal\")\n",
        "exp_std"
      ],
      "metadata": {
        "id": "xvw-A3d9PzIq"
      },
      "execution_count": null,
      "outputs": []
    },
    {
      "cell_type": "code",
      "source": [
        "exp_pca <- rexposome::pca(exp_std)\n",
        "exp_pca"
      ],
      "metadata": {
        "id": "ML2Q2GRZQUif"
      },
      "execution_count": null,
      "outputs": []
    },
    {
      "cell_type": "code",
      "source": [
        "rexposome::plotPCA(exp_pca, set = \"all\")"
      ],
      "metadata": {
        "id": "DlwWjlIwhh5g",
        "outputId": "69ac2d7d-eaf0-46f1-e4c5-9bcf60848a83",
        "colab": {
          "base_uri": "https://localhost:8080/",
          "height": 437
        }
      },
      "execution_count": 111,
      "outputs": [
        {
          "output_type": "display_data",
          "data": {
            "text/plain": [
              "plot without title"
            ],
            "image/png": "[encoded data removed]"
          },
          "metadata": {
            "image/png": {
              "width": 420,
              "height": 420
            }
          }
        }
      ]
    }
  ]
}