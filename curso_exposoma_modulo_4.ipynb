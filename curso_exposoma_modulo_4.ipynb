{
  "nbformat": 4,
  "nbformat_minor": 0,
  "metadata": {
    "colab": {
      "provenance": [],
      "include_colab_link": true
    },
    "kernelspec": {
      "name": "ir",
      "display_name": "R"
    },
    "language_info": {
      "name": "R"
    }
  },
  "cells": [
    {
      "cell_type": "markdown",
      "metadata": {
        "id": "view-in-github",
        "colab_type": "text"
      },
      "source": [
        "<a href=\"https://colab.research.google.com/github/alldominguez/ISGlobal.sesion4.Exposoma/blob/main/curso_exposoma_modulo_4.ipynb\" target=\"_parent\"><img src=\"https://colab.research.google.com/assets/colab-badge.svg\" alt=\"Open In Colab\"/></a>"
      ]
    },
    {
      "cell_type": "markdown",
      "source": [
        "# **Introducción al concepto del Exposoma y sus metodologías. Sesión 4 - \"Estrategias para el análisis de datos de Exposoma.\"**  \n",
        "\n",
        "<img src=\"https://github.com/alldominguez/ISGlobal.sesion4.Exposoma/blob/main/figures/isglobal.png?raw=1\" alt=\"ISGlobal logo\" width=\"300\"/>  \n",
        "\n",
        "<img src=\"https://github.com/alldominguez/ISGlobal.sesion4.Exposoma/blob/main/figures/exposoma.png?raw=1\" alt=\"ISGlobal logo\" width=\"500\"/>\n",
        "\n",
        "**Alan Domínguez**, Investigador Predoctoral del Instituto de Salud Global de Barcelona - ISGlobal.  \n",
        "**Augusto Anguita-Ruiz**, Investigador Postdoctoral del Instituto de Salud Global de Barcelona - ISGlobal.  \n",
        "\n",
        "El exposoma, descrito como \"la totalidad de las exposiciones ambientales humanas desde la concepción en adelante\", reconoce que los individuos estamos expuestos simultaneamente a multiples factores ambientales diferentes adoptando un efoque holístico para el descubrimento de factores etiológicos de la enfermedad. La ventaja prinicipal del enfoque del exposoma sobre otros más tradicionales \"una exposición, una enfermedad o desenlace de salud\" es que proporciona un framework para el estudio de múltiples riesgos ambientales (urbanos, químicos, estilo de vida, sociales, etc...) y sus efectos combinados.\n",
        "\n",
        "El **objetivo** de esta sesión es ofrecer una **introducción a los distintos abordajes estadístico**s necesarios para responder a las principales cuestiones de **investigación en exposoma**, por lo que esta sesión se :\n",
        "\n",
        "**1.- Análisis descriptivo:**  En una primera parte de la sesión se trabajará sobre el concepto de análisis descriptivo en exposómica, mediante el cual se extraen las primeras conclusiones sobre los datos. Entre otros objetivos, el análisis descriptivo persigue identificar posibles valores anómalos, factores de confusión o variables que requieran de transformaciones previas al análisis. A su vez, el análisis descriptivo permite comparar preliminarmente los grupos experimentales objeto de estudio, estudiar los patrones de correlación existentes entre factores de exposición, e identificar fenómenos de agrupación en los datos (tanto a nivel de individuos como de características). Todos ellos, pasos imprescindibles para elegir el abordaje estadístico posterior más adecuado.\n",
        "\n",
        "Alguno de los contenidos que revisaremos en esta sección:\n",
        "* **Visualización de la distribución y concentración de variables del exposoma.**\n",
        "* **Correlación entre exposiciones**\n",
        "* **Análsis de Componentes Principales (PCA) aplicado a variables del exposoma.**\n",
        "\n",
        "**2.- Análisis de asociación:** El análisis de asociación persigue la identificación de los posibles factores de exposición ambiental asociados con distintos parámetros de salud. En este bloque de la sesión se presentarán por lo tanto distintos abordajes analíticos holísticos centrados en el estudio de los efectos de múltiples factores de exposición y sus mezclas sobre la salud. Esto incluye principalmente modelos como el ExWAS (Exposome-Wide Association Analysis), u otros para el estudio de interacciones, o fenómenos de no linealidad (e.g., Bayesian Kernel Machine Regression). También se presentará una introducción a los métodos de clustering o mezclas de exposición (e.g., Weighted Quantile Sum Regression). Durante su estudio, se introducirán conceptos de gran importancia en el análisis del exposoma como son la selección de características o la corrección de testeo múltiple.\n",
        "\n",
        "Alguno de los contenidos que revisaremos en esta sección:\n",
        "* **Exposure Wide Association Analysis (ExWas)**\n",
        "* **Métodos para la selecciónde variables (Stepwise, Elastic net, DSA)**\n",
        "* **Weighted quantile sum regression**\n",
        "* **Clustering**\n",
        "* **Bayesian Kernel Machine Regression**\n"
      ],
      "metadata": {
        "id": "Dqcog9uUbeZk"
      }
    },
    {
      "cell_type": "markdown",
      "source": [
        "# **Recordatorio: Introducción a NoteBook**\n",
        "\n",
        "Dentro de este cuaderno (*NoteBook*), se le guiará paso a paso desde la carga de un conjunto de datos hasta el análisis descriptivo de su contenido.\n",
        "\n",
        "El cuaderno de *Jupyter* (Python) es un enfoque que combina bloques de texto (como éste) junto con bloques o celdas de código. La gran ventaja de este tipo de celdas, es su interactividad, ya que pueden ser ejecutadas para comprobar los resultados directamente sobre las mismas. *Muy importante*: **el orden las instrucciones es fundamental**, por lo que cada celda de este cuaderno debe ser ejecutada secuencialmente. En caso de omitir alguna, puede que el programa lance un error, así que se deberá comenzar desde el principio en caso de duda.\n",
        "\n",
        "Antes de nada:\n",
        "\n",
        "Es **muy muy importante** que al comienzo se seleccione **\"*Abrir en modo de ensayo*\" (draft mode)**, arriba a la izquierda. En caso contrario, no permitirá ejecutar ningún bloque de código, por cuestiones de seguridad. Cuando se ejecute el primero de los bloques, aparecerá el siguiente mensaje: \"*Advertencia: Este cuaderno no lo ha creado Google.*\". No se preocupe, deberá confiar en el contenido del cuaderno (*NoteBook*) y pulsar en \"Ejecutar de todos modos\".\n",
        "\n",
        "¡Ánimo!\n",
        "\n",
        "Haga clic en el botón \"play\" en la parte izquierda de cada celda de código. Las líneas de código que comienzan con un hashtag (#) son comentarios y no afectan a la ejecución del programa.\n",
        "\n",
        "También puede pinchar sobre cada celda y hacer \"*ctrl+enter*\" (*cmd+enter* en Mac).\n",
        "\n",
        "Cada vez que ejecute un bloque, verá la salida justo debajo del mismo. La información suele ser siempre la relativa a la última instrucción, junto con todos los `print()` (orden para imprimir) que haya en el código."
      ],
      "metadata": {
        "id": "EKKM1PhGbg9e"
      }
    },
    {
      "cell_type": "markdown",
      "source": [
        "## **ÍNDICE**\n",
        "1. [Instalación del entorno R y sus bibliotecas para el análisis de exposoma](#instalacion-librerias)    \n",
        "2. [Cargar los datos](#cargar-datos)\n",
        "4. [Análisis descriptivo del Exposoma](#descriptivo)   \n",
        "5. [Análisis de asociación del Exposoma](#asociacion)\n",
        "6. [ExWAS...](#etiquetaE)  \n",
        "7. [Mixtures....](#etiquetaF)   \n",
        "8. [Bibliografía](#etiquetaG)"
      ],
      "metadata": {
        "id": "SLQByQt6boyV"
      }
    },
    {
      "cell_type": "markdown",
      "source": [
        "## **1. Instalación del entorno R y librerias para el análisis del exposoma** <a name=\"instalacion-librerias\"></a>\n",
        "\n",
        "A continuación, instalamos/cargamos las librerias necesarias para esta sesión. En el contexto de análisis de exposoma, las bibliotecas de R nos ofrecen una manera mucho más cómoda de procesar, manipular y analizar los datos. Algunas de estas bibliotecas: `tidyverse`, `skimr`, `rexposome`, `bkmr`,  `gWQS`.   \n",
        "  \n",
        "La instalación de R en nuestro entorno de Google Colab se realizará en el siguiente bloque de código. Hay que recordar que todas las instalaciones de bibliotecas que realicemos en el entorno de Google Colab solo permanecerán activas unas pocas horas, después de las cuales las bibliotecas instaladas se eliminan. Por lo tanto, será necesario que vuelvas a ejecutar los códigos de instalación de bibliotecas de esta sección cuando necesites ejecutar de nuevo notebook pasado este tiempo.\n",
        "\n",
        "**Nota:** Recomendamos instalar las librerias **30 minutos** antes del comienzo de la sesión❗❗❗\n"
      ],
      "metadata": {
        "id": "FzcR99tI-Yhe"
      }
    },
    {
      "cell_type": "code",
      "source": [
        "# primero chequeamos la version de R que tenemos\n",
        "#R.Version()"
      ],
      "metadata": {
        "id": "72VUo583KVQE"
      },
      "execution_count": null,
      "outputs": []
    },
    {
      "cell_type": "markdown",
      "source": [
        "* **Instalar/cargar librerias para la sesión**\n",
        "\n",
        "Instalaremos/cargaremos las librerias necesarias para la sesión práctica, para esto utilizaremos el paquete `pacman`, este paquete es una herramienta de administración que combina funcionalidades de las funciones `install.packages` + `library`.\n",
        "\n",
        "\n",
        "\n",
        "\n",
        "\n",
        "\n"
      ],
      "metadata": {
        "id": "QMFsFs-2KPCA"
      }
    },
    {
      "cell_type": "code",
      "source": [
        "install.packages(\"pacman\") # nos permite instalar/cargar paquetes de manera simultanea"
      ],
      "metadata": {
        "id": "Qhzv4rIHLHzm",
        "colab": {
          "base_uri": "https://localhost:8080/"
        },
        "outputId": "13328308-8234-45c5-f9f5-b248668c9e1a"
      },
      "execution_count": 1,
      "outputs": [
        {
          "output_type": "stream",
          "name": "stderr",
          "text": [
            "Installing package into ‘/usr/local/lib/R/site-library’\n",
            "(as ‘lib’ is unspecified)\n",
            "\n"
          ]
        }
      ]
    },
    {
      "cell_type": "markdown",
      "source": [
        "Instalaremos `BiocManager` y `rexposome` (estos dos paquetes son fundamentales para el análsis del exposoma), utilizando el siguiente código ya que algunas veces suele tener problemas de compatibilidad con la versión de R (el proceso tarda alrededor de 15 minutos, por lo que se recomienda instalarla durante la sesión teórica."
      ],
      "metadata": {
        "id": "bGVMG60NMEiF"
      }
    },
    {
      "cell_type": "code",
      "source": [
        "if (!requireNamespace(\"BiocManager\", quietly=TRUE))\n",
        "    install.packages(\"BiocManager\")\n",
        "\n",
        "packages = c('Biobase', 'mice', 'MultiDataSet', 'lsr', 'FactoMineR',\n",
        "\t'stringr', 'circlize', 'corrplot', 'ggplot2', 'reshape2', 'pryr',\n",
        "\t'scales', 'imputeLCMD', 'scatterplot3d', 'glmnet', 'gridExtra',\n",
        "\t'grid', 'Hmisc', 'gplots', 'gtools', 'S4Vectors'\n",
        ")\n",
        "for( pkg in packages ) {\n",
        "  if( !pkg %in% rownames( installed.packages() ) ) {\n",
        "    message( \"Installing \", pkg )\n",
        "    BiocManager::install( pkg )\n",
        "  }\n",
        "}"
      ],
      "metadata": {
        "id": "G1VMrFw4E9kD"
      },
      "execution_count": null,
      "outputs": []
    },
    {
      "cell_type": "code",
      "source": [
        "# instalamos rexposome (la instalación de rexposome tarda un poco dependiendo de nuestra conexón)\n",
        "install.packages(\"devtools\")\n",
        "devtools::install_github(\"isglobal-brge/rexposome\")"
      ],
      "metadata": {
        "id": "ELKoTpL2FE4y",
        "colab": {
          "base_uri": "https://localhost:8080/"
        },
        "outputId": "98f0f956-b47e-44b2-adcc-2ae9cc870c07"
      },
      "execution_count": 3,
      "outputs": [
        {
          "output_type": "stream",
          "name": "stderr",
          "text": [
            "Installing package into ‘/usr/local/lib/R/site-library’\n",
            "(as ‘lib’ is unspecified)\n",
            "\n",
            "also installing the dependencies ‘xtable’, ‘sourcetools’, ‘shiny’, ‘downlit’, ‘miniUI’, ‘pkgdown’, ‘profvis’, ‘urlchecker’\n",
            "\n",
            "\n",
            "Downloading GitHub repo isglobal-brge/rexposome@HEAD\n",
            "\n"
          ]
        },
        {
          "output_type": "stream",
          "name": "stdout",
          "text": [
            "utf8    (1.2.3 -> 1.2.4) [CRAN]\n",
            "bit     (4.0.4 -> 4.0.5) [CRAN]\n",
            "isoband (0.2.6 -> 0.2.7) [CRAN]\n",
            "highr   (0.9   -> 0.10 ) [CRAN]\n"
          ]
        },
        {
          "output_type": "stream",
          "name": "stderr",
          "text": [
            "Installing 4 packages: utf8, bit, isoband, highr\n",
            "\n",
            "Installing packages into ‘/usr/local/lib/R/site-library’\n",
            "(as ‘lib’ is unspecified)\n",
            "\n"
          ]
        },
        {
          "output_type": "stream",
          "name": "stdout",
          "text": [
            "\u001b[36m──\u001b[39m \u001b[36mR CMD build\u001b[39m \u001b[36m─────────────────────────────────────────────────────────────────\u001b[39m\n",
            "* checking for file ‘/tmp/RtmpwmhCyA/remotesb1d9edcc4/isglobal-brge-rexposome-0bb431c/DESCRIPTION’ ... OK\n",
            "* preparing ‘rexposome’:\n",
            "* checking DESCRIPTION meta-information ... OK\n",
            "* checking for LF line-endings in source and make files and shell scripts\n",
            "* checking for empty or unneeded directories\n",
            "* building ‘rexposome_1.21.1.tar.gz’\n",
            "Warning in utils::tar(filepath, pkgname, compression = compression, compression_level = 9L,  :\n",
            "  storing paths of more than 100 bytes is not portable:\n",
            "  ‘rexposome/vignettes/rsconnect/documents/exposome_data_analysis.Rmd/rpubs.com/rpubs/Publish Document.dcf’\n",
            "\n"
          ]
        },
        {
          "output_type": "stream",
          "name": "stderr",
          "text": [
            "Installing package into ‘/usr/local/lib/R/site-library’\n",
            "(as ‘lib’ is unspecified)\n",
            "\n"
          ]
        }
      ]
    },
    {
      "cell_type": "code",
      "source": [
        "#para aquellos que tienen una version antigua de R (en el caso de usar Rstudio desktop)\n",
        "#devtools::install_github(\"isglobal-brge/rexposome\", ref=\"R-3.0\")"
      ],
      "metadata": {
        "id": "gwcR7U1iKLYz"
      },
      "execution_count": null,
      "outputs": []
    },
    {
      "cell_type": "code",
      "source": [
        "# Añadimos todas las librerias que necesitemos utilizar (si el paquete ya esta instalado, automaticamente cargara el paquete si esta en la funcion pacman::p_load())\n",
        "pacman::p_load(tidyverse, corrplot, RColorBrewer, skimr, bkmr, gWQS, ggridges, rexposome)"
      ],
      "metadata": {
        "id": "0bd6Fmjy7LNA"
      },
      "execution_count": null,
      "outputs": []
    },
    {
      "cell_type": "code",
      "source": [
        "#if (!require(\"BiocManager\", quietly = TRUE))\n",
        "#  install.packages(\"BiocManager\")\n",
        "#BiocManager::install(\"rexposome\", force = TRUE)\n"
      ],
      "metadata": {
        "id": "KVvSDV-MbDT8"
      },
      "execution_count": null,
      "outputs": []
    },
    {
      "cell_type": "markdown",
      "source": [
        "## **2. Cargar los datos** <a name=\"cargar-datos\"></a>\n",
        "\n",
        "A continuación, se muestran las **líneas de código** necesarias para **cargar** en el entorno de R el conjunto de datos de Exposoma. Para esta sesión práctica utilizaremos datos del estudio de exposoma HELIX. El estudio HELIX es un projecto colaborativo entre seis estudios longitudinales de cohortes de nacimiento basados en la población de seis paises Europeos (Francia, Grecia, Lituania, Noruega, Españana y Reino Unido).\n",
        "\n",
        "<img src=\"https://github.com/alldominguez/ISGlobal.sesion4.Exposoma/blob/main/figures/HELIX.png?raw=1\" alt=\"HELIX logo\" width=\"500\"/>\n",
        "\n",
        "**Nota:** Los datos proporcionados en este curso introductorio fueron simulados a partir de los datos de la subcohorte HELIX. Detalles del projecto HELIX y el origen de los datos colectados pueden ser consultados en la siguiente publicación: https://bmjopen.bmj.com/content/8/9/e021311 y website: https://www.projecthelix.eu/es.\n",
        "\n",
        "* Los **datos de exposoma (n = 1301)** que utilizaremos estan contenidos en un archivo Rdata, el archivo contiene los siguientes ficheros:\n",
        "\n",
        "1. `phenotype` (outcomes)\n",
        "2. `exposome` (exposiciones)\n",
        "3. `covariates` (covariables)\n",
        "\n",
        "\n",
        "La base de datos `exposome` contiene más de **200 exposiciones**.\n",
        "\n",
        "<img src=\"https://github.com/alldominguez/ISGlobal.sesion4.Exposoma/blob/main/figures/exposures_helix.png?raw=1\" alt=\"HELIX exposures\" width=\"300\"/>\n",
        "\n",
        "La descripción de cada variable (nombre, estructura, tipo de variable, transformacion, ...) esta detallada en el [codebook](https://github.com/alldominguez/ISGlobal.sesion4.Exposoma/blob/main/data/codebook.csv).\n",
        "\n",
        "\n"
      ],
      "metadata": {
        "id": "DsoalTRZdIdV"
      }
    },
    {
      "cell_type": "markdown",
      "source": [
        "**1.-** Cargamos los datos necesarios para la sesión"
      ],
      "metadata": {
        "id": "VSUqs-A60QcI"
      }
    },
    {
      "cell_type": "code",
      "source": [
        "# Opción 1 (cargamos las bases de datos como archivos csv)\n",
        "phenotype <- read.csv2(url(\"https://raw.githubusercontent.com/alldominguez/ISGlobal.sesion4.Exposoma/main/data/phenotype.csv\"),  header = TRUE) # outcomes\n",
        "exposome <- read.csv2(url(\"https://raw.githubusercontent.com/alldominguez/ISGlobal.sesion4.Exposoma/main/data/exposome.csv\"), header = TRUE) # exposiciones\n",
        "covariates <- read.csv2(url(\"https://raw.githubusercontent.com/alldominguez/ISGlobal.sesion4.Exposoma/main/data/covariates.csv\"), header = TRUE) # covariables\n",
        "codebook <- read.csv2(url(\"https://raw.githubusercontent.com/alldominguez/ISGlobal.sesion4.Exposoma/main/data/codebook.csv\")) # codebook"
      ],
      "metadata": {
        "id": "QdsjN_rcoB6i"
      },
      "execution_count": null,
      "outputs": []
    },
    {
      "cell_type": "code",
      "source": [
        "# Opción 2 (cargamos un archivo RData, este archivo contiene los 3 dataset + el codebook)\n",
        "load(url(\"https://raw.githubusercontent.com/alldominguez/ISGlobal.sesion4.Exposoma/main/data/exposome.RData\")) #con esta línea cargamos todo"
      ],
      "metadata": {
        "id": "b8Pc3sqpcpVN"
      },
      "execution_count": 67,
      "outputs": []
    },
    {
      "cell_type": "code",
      "source": [
        "phenotype\n",
        "exposome\n",
        "covariates\n",
        "codebook"
      ],
      "metadata": {
        "id": "TD37CVA45ObF"
      },
      "execution_count": null,
      "outputs": []
    },
    {
      "cell_type": "markdown",
      "source": [
        "**2.-** Revisamos la estructura y dimensión de los datos"
      ],
      "metadata": {
        "id": "F---b4Tg0nMC"
      }
    },
    {
      "cell_type": "code",
      "source": [
        "dplyr::glimpse(phenotype) # 1301 observaciones"
      ],
      "metadata": {
        "id": "V56avl4L0oIm"
      },
      "execution_count": null,
      "outputs": []
    },
    {
      "cell_type": "code",
      "source": [
        "dplyr::glimpse(exposome) # 1301 observaciones"
      ],
      "metadata": {
        "id": "M1HTY6qyiME0"
      },
      "execution_count": null,
      "outputs": []
    },
    {
      "cell_type": "code",
      "source": [
        "dplyr::glimpse(covariates) # 1301 observaciones"
      ],
      "metadata": {
        "id": "arEb9MuXiN3a"
      },
      "execution_count": null,
      "outputs": []
    },
    {
      "cell_type": "code",
      "source": [
        "dplyr::glimpse(codebook) # este archivo contiene el codebook con la descripción de cada variable"
      ],
      "metadata": {
        "id": "yj3AWIN2iOoM"
      },
      "execution_count": null,
      "outputs": []
    },
    {
      "cell_type": "markdown",
      "source": [],
      "metadata": {
        "id": "ZSQx65Qwt1w8"
      }
    },
    {
      "cell_type": "markdown",
      "source": [
        "* Si cargamos los archivos csv tenemos que hacer un paso adicional"
      ],
      "metadata": {
        "id": "h4rNuWL5vUET"
      }
    },
    {
      "cell_type": "code",
      "source": [
        "#rownames(codebook) <- codebook[, 2]\n",
        "#codebook <- codebook[, -1]"
      ],
      "metadata": {
        "id": "QE17_rg4EmFK"
      },
      "execution_count": null,
      "outputs": []
    },
    {
      "cell_type": "code",
      "source": [
        "dplyr::glimpse(codebook)"
      ],
      "metadata": {
        "id": "eqBMjplwE78X"
      },
      "execution_count": null,
      "outputs": []
    },
    {
      "cell_type": "markdown",
      "source": [
        "**3.-** Hacemos un resumen rápido de nuestros datos, para revisar si estos se cargaron correctamente."
      ],
      "metadata": {
        "id": "5n4_4MiACEFw"
      }
    },
    {
      "cell_type": "code",
      "source": [
        "skimr::skim(phenotype)"
      ],
      "metadata": {
        "id": "T6wYtacMCCas"
      },
      "execution_count": null,
      "outputs": []
    },
    {
      "cell_type": "code",
      "source": [
        "skimr::skim(exposome)"
      ],
      "metadata": {
        "id": "zdlJMI0YDK07"
      },
      "execution_count": null,
      "outputs": []
    },
    {
      "cell_type": "code",
      "source": [
        "skimr::skim(covariates)"
      ],
      "metadata": {
        "id": "_pOnBXcKoo6u"
      },
      "execution_count": null,
      "outputs": []
    },
    {
      "cell_type": "markdown",
      "source": [
        "*   Vamos a utilizar la función `rexposome::loadExposome` para crear un solo dataset (`ExposomeSet`) a traves de los `data.frames` que cargamos inicialmente. Primero ordenaremos los datos en el formato adecuado para nuestro análisis.\n",
        "\n",
        "\n"
      ],
      "metadata": {
        "id": "MXHfytb70y_9"
      }
    },
    {
      "cell_type": "code",
      "source": [
        "levels(codebook$family)"
      ],
      "metadata": {
        "id": "k56Rid0N8VUe"
      },
      "execution_count": null,
      "outputs": []
    },
    {
      "cell_type": "code",
      "source": [
        "# Hacemos un subset de las variables para fines ilustrativos (puedes probar con otras familias)\n",
        "#xpo.list <- as.character(codebook$variable_name[(codebook$family == \"Organochlorines\" |\n",
        "                                                 #codebook$family == \"Metals\" |\n",
        "                                                 #codebook$family == \"Chemicals\" |\n",
        "                                                 #codebook$family == \"Air Pollution\" |\n",
        "                                                 #codebook$family == \"Indoor air\" |\n",
        "                                                 #codebook$family == \"Built environment\") &\n",
        "                                                 #codebook$period == \"Postnatal\"])\n",
        "expo.list"
      ],
      "metadata": {
        "id": "MLP0jS6y036s"
      },
      "execution_count": null,
      "outputs": []
    },
    {
      "cell_type": "code",
      "source": [
        "# podemos probar con otro subset\n",
        "expo.list <- as.character(codebook$variable_name[(codebook$family == \"Organochlorines\" |\n",
        "                                                  codebook$family == \"Metals\" |\n",
        "                                                  codebook$family == \"Built environment\") &\n",
        "                                                  codebook$period == \"Postnatal\"])\n",
        "expo.list"
      ],
      "metadata": {
        "id": "5pBtjL8O39R2"
      },
      "execution_count": null,
      "outputs": []
    },
    {
      "cell_type": "code",
      "source": [
        "# podemos excluir algunas variables de exposición en las que no tenemos interes\n",
        "expo.list <- expo.list[-which(expo.list == \"hs_tl_cdich_None\")]\n",
        "expo.list <- expo.list[-which(expo.list == \"hs_sumPCBs5_cadj_Log2\")]"
      ],
      "metadata": {
        "id": "qrXwaUJyDClV"
      },
      "execution_count": 69,
      "outputs": []
    },
    {
      "cell_type": "code",
      "source": [
        "# seleccionamos columnas(variables) específicas provenientes de las familias que seleccionamos en el paso anterior y añadimos la variable ID\n",
        "expo2 <- exposome[ ,c(\"ID\", expo.list)]"
      ],
      "metadata": {
        "id": "dpN23_pLDE6G"
      },
      "execution_count": 70,
      "outputs": []
    },
    {
      "cell_type": "code",
      "source": [
        "# revisamos las variables seleccionadas\n",
        "dplyr::glimpse(expo2)"
      ],
      "metadata": {
        "id": "Z7-scXNXr9D9"
      },
      "execution_count": null,
      "outputs": []
    },
    {
      "cell_type": "code",
      "source": [
        "# listado de variables de exposición\n",
        "codebook[expo.list,]$labels"
      ],
      "metadata": {
        "id": "wj_KEEH44yh4"
      },
      "execution_count": null,
      "outputs": []
    },
    {
      "cell_type": "markdown",
      "source": [
        "* Combinamos datos de los ficheros `phenotype` y `covariates`"
      ],
      "metadata": {
        "id": "pMHdSPu9tLSW"
      }
    },
    {
      "cell_type": "code",
      "source": [
        "dat <- cbind(hs_zbmi_who = phenotype[ ,4],  # seleccionamos la 4 columna del dataframe phenotype y la llamamos hs_zbmi_who\n",
        "             covariates[ ,2:13])  # seleccionamos de las columnas 2 a la 13 del dataframe covariates\n",
        "\n",
        "# luego combinamos\n",
        "data <- data.frame(expo2, dat)"
      ],
      "metadata": {
        "id": "14mKhYaK9TSY"
      },
      "execution_count": 71,
      "outputs": []
    },
    {
      "cell_type": "code",
      "source": [
        "# revisamos la base de datos generadas\n",
        "dplyr::glimpse(codebook)"
      ],
      "metadata": {
        "id": "2pXJumphuMQL"
      },
      "execution_count": null,
      "outputs": []
    },
    {
      "cell_type": "code",
      "source": [
        "str(data)"
      ],
      "metadata": {
        "id": "ZUwbrBUn0qsk"
      },
      "execution_count": null,
      "outputs": []
    },
    {
      "cell_type": "markdown",
      "source": [
        "Ahora crearemos nuestro objecto `ExposomeSet` combinando nuestros tres archivos que trabajamos en las líneas anteriores. Este dataset esta compuesto por:\n",
        "\n",
        "* **3 familias de exposiciones** (built environment, metals, orgaanochlorines), son **32 exposiciones en total**. [variables continuas]\n",
        "* **1 outcome** (z-score for BMI) [variable continua]\n",
        "* **1 ventana de exposición** [perido postnatal]\n",
        "\n"
      ],
      "metadata": {
        "id": "wGYELXL585Pq"
      }
    },
    {
      "cell_type": "code",
      "source": [
        "exp <- rexposome::loadExposome(\n",
        "  exposures = expo2[expo.list],\n",
        "  description = codebook[expo.list,],\n",
        "  phenotype = dat,\n",
        "  description.famCol = \"family\"\n",
        "  )"
      ],
      "metadata": {
        "id": "gfPn1eg0oHX1"
      },
      "execution_count": 72,
      "outputs": []
    },
    {
      "cell_type": "code",
      "source": [
        "dplyr::glimpse(exp)"
      ],
      "metadata": {
        "id": "dWcs9rj-LIXR"
      },
      "execution_count": null,
      "outputs": []
    },
    {
      "cell_type": "markdown",
      "source": [
        "Tambien podemos unir nuestras bases de datos usando la función `dplyr::inner_join`, este objecto llamado `exp_all` sera un `data.frame` y no un objecto `ExposomeSet` por lo que no podremos utilizar todas las funcionalidades del paquete `rexposome`"
      ],
      "metadata": {
        "id": "HGHaJtnrCbh1"
      }
    },
    {
      "cell_type": "code",
      "source": [
        "# con esta línea podemos unir todas las bases de datos utilizando ID como la key variable\n",
        "exp_all <- phenotype %>%\n",
        "           dplyr::inner_join(exposome, by = \"ID\") %>%\n",
        "           dplyr::inner_join(covariates, by = \"ID\")"
      ],
      "metadata": {
        "id": "OHbV4XfSCGI6"
      },
      "execution_count": 24,
      "outputs": []
    },
    {
      "cell_type": "code",
      "source": [
        "dplyr::glimpse(exp_all) # 1,301 observaciones y 242 variables"
      ],
      "metadata": {
        "id": "_U3HA2eR72mP"
      },
      "execution_count": null,
      "outputs": []
    },
    {
      "cell_type": "markdown",
      "source": [
        "## **3.- Análisis descriptivo del Exposoma** <a name=\"descriptivo\"></a>\n",
        "\n",
        "Para el análsis descriptivo del exposoma vamos a utilizar la libreria `rexposome`. Esta libreria contiene diferentes funciones diseñadas para explorar y describir datos de exposoma (missing data, distribución, correlación). Algunas de sus funciones son: `normalityTest` ,`plotMissing`, `plotHistogram`, `plotFamily`, `correlation`, `plotCorrelation`."
      ],
      "metadata": {
        "id": "p4hBPIMPn1_i"
      }
    },
    {
      "cell_type": "code",
      "source": [
        "# revisamos la base de datos que utilizaremos (es necesario que sea un ExposomeSet object)\n",
        "str(exp)"
      ],
      "metadata": {
        "id": "XmUwWHGjKW61"
      },
      "execution_count": null,
      "outputs": []
    },
    {
      "cell_type": "markdown",
      "source": [
        "Utilizaremos la función `rexposome::normaltyTest` para evaluar las variables del exposoma que siguen una distribción normal."
      ],
      "metadata": {
        "id": "BwL4phGE-g6J"
      }
    },
    {
      "cell_type": "code",
      "source": [
        "nm <- rexposome::normalityTest(exp)\n",
        "table(nm$normality)"
      ],
      "metadata": {
        "id": "UfWf6E2Z-hzc"
      },
      "execution_count": null,
      "outputs": []
    },
    {
      "cell_type": "code",
      "source": [
        "# revisamos todas las variables que no tienen una distribución normal\n",
        "nm$exposure[!nm$normality]"
      ],
      "metadata": {
        "id": "QQK9M14g-Kgg"
      },
      "execution_count": null,
      "outputs": []
    },
    {
      "cell_type": "markdown",
      "source": [
        "### **3.1.- Visualización de la distribución y concentración de variables del Exposoma**"
      ],
      "metadata": {
        "id": "PvKPfHh8k7UR"
      }
    },
    {
      "cell_type": "code",
      "source": [
        "str(exp)"
      ],
      "metadata": {
        "id": "HIkBLiFgg736"
      },
      "execution_count": null,
      "outputs": []
    },
    {
      "cell_type": "markdown",
      "source": [
        "* **Histogramas**  \n",
        "\n",
        "Utilizando la función `plotHistogram` revisamos la distribución de las variables categoricas y continuas de nuestra base de datos. En los histogramas podemos ver una exposción de cada familia\n",
        "\n"
      ],
      "metadata": {
        "id": "jro4Zzsvt2NU"
      }
    },
    {
      "cell_type": "code",
      "source": [
        "rexposome::plotHistogram(exp, select = \"hs_pb_c_Log2\") + ggtitle(\"Distribución exposición a Plomo\")  # Histograma pb\n",
        "rexposome::plotHistogram(exp, select = \"hs_pcb180_cadj_Log2\") + ggtitle(\"Distribución exposición a Bifenilos Policlorados (PCB's)\") # Histograma pcb180\n",
        "rexposome::plotHistogram(exp, select = \"hs_popdens_h_Sqrt\") + ggtitle(\"Distribución Densidad poblacional\") # Histograma densidad poblacional"
      ],
      "metadata": {
        "id": "VxV8BICag3vq"
      },
      "execution_count": null,
      "outputs": []
    },
    {
      "cell_type": "markdown",
      "source": [
        "* **Boxplots**\n",
        "\n",
        "Utilizando la función `plotFamily` podemos describir una exposición por familia y estratificar por grupo. A continuación vamos a ver algunos ejemplos (pueden probar con otras familias"
      ],
      "metadata": {
        "id": "F1gDctgs9dlh"
      }
    },
    {
      "cell_type": "code",
      "source": [
        "# Contaminantes Organoclorados estratificado por Sexo\n",
        "rexposome::plotFamily(exp, family = \"Organochlorines\", group = \"e3_sex_None\") +\n",
        "   xlab('Contaminante') +\n",
        "   ylab('Concentracion')"
      ],
      "metadata": {
        "id": "B-_gzamw5sBD"
      },
      "execution_count": null,
      "outputs": []
    },
    {
      "cell_type": "code",
      "source": [
        "# Contaminantes Organoclorados** estratificado por Cohorte\n",
        "rexposome::plotFamily(exp, family = \"Organochlorines\", group = \"h_cohort\") +\n",
        "                      xlab('Contaminante') +\n",
        "                      ylab('Concentracion')"
      ],
      "metadata": {
        "id": "6HUX52cK7bvm"
      },
      "execution_count": null,
      "outputs": []
    },
    {
      "cell_type": "code",
      "source": [
        "# Contaminación del aire interior estratificado por Cohorte\n",
        "#rexposome::plotFamily(exp, family = \"Indoor air\", group = \"h_cohort\")"
      ],
      "metadata": {
        "id": "pX6Uq68Q0Emz"
      },
      "execution_count": null,
      "outputs": []
    },
    {
      "cell_type": "code",
      "source": [
        "# Metales estratificados por Cohorte\n",
        "rexposome::plotFamily(exp, family = \"Metals\", group = \"h_cohort\")"
      ],
      "metadata": {
        "id": "FRiO9Gm6K1rD"
      },
      "execution_count": null,
      "outputs": []
    },
    {
      "cell_type": "markdown",
      "source": [
        "### **3.2.- Correlación entre exposiciones**\n",
        "\n",
        "La correlación entre variables es algo importante a tener en consideración cuando queremos hacer análisis en exposoma. Para mirar la correlación intrafamiliar e interfamiliar de las diferentes exposicioens, utilizaremos la funcion `rexposome::correlation`."
      ],
      "metadata": {
        "id": "f6CNsZUnsKEX"
      }
    },
    {
      "cell_type": "code",
      "source": [
        "exp_cor <- rexposome::correlation(exp, use = \"pairwise.complete.obs\", method.cor = \"spearman\") # podemos usar pearson como método de correlación"
      ],
      "metadata": {
        "id": "trsWy4JKsJbQ"
      },
      "execution_count": 42,
      "outputs": []
    },
    {
      "cell_type": "code",
      "source": [
        "extract(exp_cor)[1:4, 1:4]"
      ],
      "metadata": {
        "id": "evSjc3a72Ko4"
      },
      "execution_count": null,
      "outputs": []
    },
    {
      "cell_type": "markdown",
      "source": [
        "Podemos visualizar la correlación de todas las exposiciones del exposoma (de nuestro set de datos) utilizando dos tipos de gráficos con la función `rexposome::plotCorrelation`. Cambiando el argumento por `circos` o `matrix` obtenemos un gráfico diferente."
      ],
      "metadata": {
        "id": "B4Iqj9kjIUx4"
      }
    },
    {
      "cell_type": "code",
      "source": [
        "rexposome::plotCorrelation(exp_cor, type = \"circos\")"
      ],
      "metadata": {
        "id": "VDkOLhkg2TLd"
      },
      "execution_count": null,
      "outputs": []
    },
    {
      "cell_type": "code",
      "source": [
        "rexposome::plotCorrelation(exp_cor, type = \"matrix\",  )"
      ],
      "metadata": {
        "id": "MVpQQYo62Y43"
      },
      "execution_count": null,
      "outputs": []
    },
    {
      "cell_type": "markdown",
      "source": [
        "### **3.3.- Análisis de Componentes Principales (PCA)**\n",
        "\n",
        "El PCA es un algoritmo de machine learning no supervisado utilizado para análisis exploratorios y de reducción de dimensiones. Para aplicar este análisis es necesario que las exposiciones sean estandarizadas, para esto el paquete `rexposome` cuenta con la función `rexposome::standardize` que prepara nuestros datos para aplicar posteriormente el PCA utilizando la funcion `rexposome::pca`. Luego de aplicar el PCA podemos visualzar nuestro análisis utilizando la función `rexposome::plotPCA`"
      ],
      "metadata": {
        "id": "lU4NTw_uQd54"
      }
    },
    {
      "cell_type": "code",
      "source": [
        "dplyr::glimpse(exp)"
      ],
      "metadata": {
        "id": "hT-9KiMhgABr"
      },
      "execution_count": null,
      "outputs": []
    },
    {
      "cell_type": "code",
      "source": [
        "# Estandraizamos las variables de exposición de nuestro objeto exp\n",
        "exp_std <- rexposome::standardize(exp, method = \"normal\")\n",
        "exp_std"
      ],
      "metadata": {
        "id": "xvw-A3d9PzIq"
      },
      "execution_count": null,
      "outputs": []
    },
    {
      "cell_type": "code",
      "source": [
        "# Aplicamos el PCA a nuestro nuevo objeto estandarizado exp_std\n",
        "exp_pca <- rexposome::pca(exp_std)\n",
        "exp_pca"
      ],
      "metadata": {
        "id": "ML2Q2GRZQUif"
      },
      "execution_count": null,
      "outputs": []
    },
    {
      "cell_type": "code",
      "source": [
        "# Visualizamos los resultados del PCA\n",
        "rexposome::plotPCA(exp_pca, set = \"all\")"
      ],
      "metadata": {
        "id": "DlwWjlIwhh5g"
      },
      "execution_count": null,
      "outputs": []
    },
    {
      "cell_type": "markdown",
      "source": [
        "***Interpretación PCA***\n",
        "\n",
        "* **Exposures Space:** Este gráfico representa la variabilidad entre las diferentes exposiciones (es decir, las características o variables de entrada). Cada punto en este espacio corresponde a una caracteristica especifica. La posición de cada punto en las coordenadas PC1 y PC2 indica cuánta varibilidad de esa característica se captura en esas dos componentes principales.\n",
        "\n",
        "* **Samples Space:** Este gráfico representa la variabilidad entre las diferentes muestras o datos. Cada punto representa una observación, y su posición en las coordenadas PC1 y PC2 indica cuánto de la varibilidad total de esa muestra se describe por esas dos componentes principales.\n",
        "\n",
        "* **Explained Variance:** Este gráfico de barras muestra el porcentaje de varianza total del conjunto de datos que es explicado por cada componente principal individual. El primer componente (PC1) suele explicar la mayor parte de la variabilidad, seguido por el segundo (PC2), y así sucesivamente. La altura de cada barra indica cuánta varianza explica cada componente.\n",
        "\n",
        "* **Accum. Explained Variance:** Este gráfico indica cuánta variabilidad total se ha capturado después de sumar cada componente principal sucesivo. Por ejemplo, la varianza explicada por PC1 + PC2 juntos, luego PC1 + PC2 + PC3, y así sucesivamente.\n",
        "\n",
        "En **resumen** podemos concluir de nuestro análisis **PCA**:\n",
        "\n",
        "**1.** PC1 explica el 18,76% de la varianza total, mientras que PC2 explica el 13,39%.  \n",
        "**2.** Las exposiciones (caracteristicas del exposoma) se agrupan en regiones específicas en el espacio de exposiciones, lo que indica que algunas características son similares entre sí.   \n",
        "**3.** Las muestras en el espacio de muestras se agruopan densamente en torno a un área central, con algunas muestras dispersas, lo que podría indicar posibles grupos o patrones dentro de los datos (clusters).  \n",
        "\n",
        "\n",
        "\n",
        "\n",
        "\n"
      ],
      "metadata": {
        "id": "Htcw1qOju_Bm"
      }
    },
    {
      "cell_type": "code",
      "source": [
        "rexposome::plotPCA(exp_pca, set = \"samples\", phenotype = \"h_cohort\")"
      ],
      "metadata": {
        "id": "DmyeZUfcoU3Y"
      },
      "execution_count": null,
      "outputs": []
    },
    {
      "cell_type": "markdown",
      "source": [
        "**Interpretación PCA - cohorte**\n",
        "\n",
        "En el gráfico podemos ver que las observaciones de las diferentes cohortes se superponen en gran medida, pero también hay áreas en las que ciertas observaciones tienden a agruparse más densamente. A pesar de que vemos cierta clusterización o agrupación de observaciones, existe una superposición significativa entre los puntos, lo que podría indicar que las diferencias entre cohortes no son las principales fuentes de variación en este conjunto de datos. Este tipo de gráfico es útil para visualizar cómo se relacionan las muestras entre sí en función de su variabilidad y cómo se distribuyen en función de una categoría de interés, en este caso la variable cohorte.\n",
        "\n"
      ],
      "metadata": {
        "id": "YB8hP-EdqhA0"
      }
    },
    {
      "cell_type": "markdown",
      "source": [
        "## **3.- Análisis de asocición del Exposoma** <a name=\"asociacion\"></a>\n",
        "Una vez exploradas y descritas las variables del exposoma que queremos estudiar, podemos mirar la asosciación entre algún desenlace de salud y las diferentes exposiciones.\n",
        "\n",
        "Para esto podemos seguir diferentes aproximaciones.\n",
        "\n",
        "**1. Exposome-Wide association analysis (ExWAS)**.  \n",
        "**2. Multivariate exposome association analysis (MexWAS)**.   "
      ],
      "metadata": {
        "id": "Smq5Ik8wK49C"
      }
    },
    {
      "cell_type": "markdown",
      "source": [
        "### **3.1.- Exposome-Wide association analysis (ExWAS)**\n",
        "\n",
        "El método ExWAS es una aproximación que nos permite lidear con high-dimensionality data. Este método funciona testeando la asociación de cada una de las exposiciones con el desenlace de salud de interes, ajustando por variables confusoraws (pero no por co-exposiciones), adicionalmente nos permite controlar por testeos múltiples. Este método puede ser aplicado a través de la función `rexposome::exwas`."
      ],
      "metadata": {
        "id": "uKH6QtaQl1JK"
      }
    },
    {
      "cell_type": "code",
      "source": [
        "exwas <- rexposome::exwas(exp, formula = hs_zbmi_who ~ h_cohort + e3_sex_None + e3_yearbir_None, family = \"gaussian\")\n",
        "exwas"
      ],
      "metadata": {
        "id": "jcgWBCLqdybl"
      },
      "execution_count": null,
      "outputs": []
    }
  ]
}