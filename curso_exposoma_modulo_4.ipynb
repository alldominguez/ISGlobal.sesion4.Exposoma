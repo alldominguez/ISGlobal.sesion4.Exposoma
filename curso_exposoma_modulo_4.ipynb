{
  "nbformat": 4,
  "nbformat_minor": 0,
  "metadata": {
    "colab": {
      "provenance": [],
      "include_colab_link": true
    },
    "kernelspec": {
      "name": "ir",
      "display_name": "R"
    },
    "language_info": {
      "name": "R"
    }
  },
  "cells": [
    {
      "cell_type": "markdown",
      "metadata": {
        "id": "view-in-github",
        "colab_type": "text"
      },
      "source": [
        "<a href=\"https://colab.research.google.com/github/alldominguez/ISGlobal.sesion4.Exposoma/blob/main/curso_exposoma_modulo_4.ipynb\" target=\"_parent\"><img src=\"https://colab.research.google.com/assets/colab-badge.svg\" alt=\"Open In Colab\"/></a>"
      ]
    },
    {
      "cell_type": "markdown",
      "source": [
        "# **Introducción al concepto del Exposoma y sus metodologías. Sesión 4 - \"Estrategias para el análisis de datos de Exposoma.\"**  \n",
        "\n",
        "<img src=\"https://github.com/alldominguez/ISGlobal.sesion4.Exposoma/blob/main/figures/isglobal.png?raw=1\" alt=\"ISGlobal logo\" width=\"300\"/>  \n",
        "\n",
        "<img src=\"https://github.com/alldominguez/ISGlobal.sesion4.Exposoma/blob/main/figures/exposoma.png?raw=1\" alt=\"ISGlobal logo\" width=\"500\"/>\n",
        "\n",
        "**Alan Domínguez**, Investigador Predoctoral del Instituto de Salud Global de Barcelona - ISGlobal.  \n",
        "**Augusto Anguita-Ruiz**, Investigador Postdoctoral del Instituto de Salud Global de Barcelona - ISGlobal.  \n",
        "\n",
        "El exposoma, descrito como \"la totalidad de las exposiciones ambientales humanas desde la concepción en adelante\", reconoce que los individuos estamos expuestos simultaneamente a multiples factores ambientales diferentes adoptando un efoque holístico para el descubrimento de factores etiológicos de la enfermedad. La ventaja prinicipal del enfoque del exposoma sobre otros más tradicionales \"una exposición, una enfermedad o desenlace de salud\" es que proporciona un framework para el estudio de múltiples riesgos ambientales (urbanos, químicos, estilo de vida, sociales, etc...) y sus efectos combinados.\n",
        "\n",
        "El **objetivo** de esta sesión es ofrecer una **introducción a los distintos abordajes estadístico**s necesarios para responder a las principales cuestiones de investigación en exposoma, por lo que esta sesión se :\n",
        "\n",
        "**1.- Análisis descriptivo:**  En una primera parte de la sesión se trabajará sobre el concepto de análisis descriptivo en exposómica, mediante el cual se extraen las primeras conclusiones sobre los datos. Entre otros objetivos, el análisis descriptivo persigue identificar posibles valores anómalos, factores de confusión o variables que requieran de transformaciones previas al análisis. A su vez, el análisis descriptivo permite comparar preliminarmente los grupos experimentales objeto de estudio, estudiar los patrones de correlación existentes entre factores de exposición, e identificar fenómenos de agrupación en los datos (tanto a nivel de individuos como de características). Todos ellos, pasos imprescindibles para elegir el abordaje estadístico posterior más adecuado.\n",
        "\n",
        "**2.- Análisis de asociación:** El análisis de asociación persigue la identificación de los posibles factores de exposición ambiental asociados con distintos parámetros de salud. En este bloque de la sesión se presentarán por lo tanto distintos abordajes analíticos holísticos centrados en el estudio de los efectos de múltiples factores de exposición y sus mezclas sobre la salud. Esto incluye principalmente modelos como el ExWAS (Exposome-Wide Association Analysis), u otros para el estudio de interacciones, o fenómenos de no linealidad (e.g., Bayesian Kernel Machine Regression). También se presentará una introducción a los métodos de clustering o mezclas de exposición (e.g., Weighted Quantile Sum Regression). Durante su estudio, se introducirán conceptos de gran importancia en el análisis del exposoma como son la selección de características o la corrección de testeo múltiple.\n"
      ],
      "metadata": {
        "id": "Dqcog9uUbeZk"
      }
    },
    {
      "cell_type": "markdown",
      "source": [
        "# **Recordatorio: Introducción a NoteBook**\n",
        "\n",
        "Dentro de este cuaderno (*NoteBook*), se le guiará paso a paso desde la carga de un conjunto de datos hasta el análisis descriptivo de su contenido.\n",
        "\n",
        "El cuaderno de *Jupyter* (Python) es un enfoque que combina bloques de texto (como éste) junto con bloques o celdas de código. La gran ventaja de este tipo de celdas, es su interactividad, ya que pueden ser ejecutadas para comprobar los resultados directamente sobre las mismas. *Muy importante*: **el orden las instrucciones es fundamental**, por lo que cada celda de este cuaderno debe ser ejecutada secuencialmente. En caso de omitir alguna, puede que el programa lance un error, así que se deberá comenzar desde el principio en caso de duda.\n",
        "\n",
        "Antes de nada:\n",
        "\n",
        "Es **muy muy importante** que al comienzo se seleccione **\"*Abrir en modo de ensayo*\" (draft mode)**, arriba a la izquierda. En caso contrario, no permitirá ejecutar ningún bloque de código, por cuestiones de seguridad. Cuando se ejecute el primero de los bloques, aparecerá el siguiente mensaje: \"*Advertencia: Este cuaderno no lo ha creado Google.*\". No se preocupe, deberá confiar en el contenido del cuaderno (*NoteBook*) y pulsar en \"Ejecutar de todos modos\".\n",
        "\n",
        "¡Ánimo!\n",
        "\n",
        "Haga clic en el botón \"play\" en la parte izquierda de cada celda de código. Las líneas de código que comienzan con un hashtag (#) son comentarios y no afectan a la ejecución del programa.\n",
        "\n",
        "También puede pinchar sobre cada celda y hacer \"*ctrl+enter*\" (*cmd+enter* en Mac).\n",
        "\n",
        "Cada vez que ejecute un bloque, verá la salida justo debajo del mismo. La información suele ser siempre la relativa a la última instrucción, junto con todos los `print()` (orden para imprimir) que haya en el código."
      ],
      "metadata": {
        "id": "EKKM1PhGbg9e"
      }
    },
    {
      "cell_type": "markdown",
      "source": [
        "## **ÍNDICE**\n",
        "\n",
        "En este *notebook*:\n",
        "1. Aprenderemos ....\n",
        "2. Plantearemos sus ....\n",
        "    \n",
        "Contenidos:\n",
        "1. [Instalación del entorno R y sus bibliotecas para el análisis de exposoma](#instalacion-librerias)    \n",
        "2. [Cargar los datos](#cargar-datos)\n",
        "4. [Análisis descriptivo del Exposoma](#descriptivo)   \n",
        "5. [Visualización](#etiquetaD)\n",
        "6. [ExWAS...](#etiquetaE)  \n",
        "7. [Mixtures....](#etiquetaF)   \n",
        "8. [Bibliografía](#etiquetaG)"
      ],
      "metadata": {
        "id": "SLQByQt6boyV"
      }
    },
    {
      "cell_type": "markdown",
      "source": [
        "## **1. Instalación del entorno R y librerias para el análisis del exposoma** <a name=\"instalacion-librerias\"></a>\n",
        "\n",
        "A continuación, instalamos/cargamos las librerias necesarias para esta sesión. En el contexto de análisis de exposoma, las bibliotecas de R nos ofrecen una manera mucho más cómoda de procesar, manipular y analizar los datos. Algunas de estas bibliotecas: `tidyverse`, `rexposome`, `bkmr`, `gWQS`, `RColorBrewer`.   \n",
        "  \n",
        "La instalación de R en nuestro entorno de Google Colab se realizará en el siguiente bloque de código. Hay que recordar que todas las instalaciones de bibliotecas que realicemos en el entorno de Google Colab solo permanecerán activas unas pocas horas, después de las cuales las bibliotecas instaladas se eliminan. Por lo tanto, será necesario que vuelvas a ejecutar los códigos de instalación de bibliotecas de esta sección cuando necesites ejecutar de nuevo notebook pasado este tiempo.\n",
        "\n",
        "Por último, recordemos que cuando una celda utiliza código de R esto se indica mediante la simbología %%R en los notebooks de Python. Quitándo dicha línea, que sirve para indicar que lo que sigue en el notebook está escrito en R, podríamos ejecutar las mismas instrucciones en cualquier entorno de R distinto al notebook sin problemas. Por ejemplo, en nuestra propia máquina Windows, Linux, MacOS utilizando nuestra instalación local de R y RStudio.\n",
        "\n",
        "El siguiente trozo de código, correspondiente a la instalación de R, es exclusivo al uso de los notebooks de Colab y sería equivalente a instalar R y RStudio en nuestras máquinas:"
      ],
      "metadata": {
        "id": "FzcR99tI-Yhe"
      }
    },
    {
      "cell_type": "markdown",
      "source": [
        "*  **Instalación de R directo desde las consola**"
      ],
      "metadata": {
        "id": "SzBDX32gKhOS"
      }
    },
    {
      "cell_type": "code",
      "source": [
        "# Tiempo estimado de ejecución: 8 segundos aprox.\n",
        "\n",
        "### Instalación de R en notebooks de Google Colab ###\n",
        "!apt-get update\n",
        "!apt-get install r-base\n",
        "!pip install rpy2==3.5.1\n",
        "%load_ext rpy2.ipython\n",
        "print (\"Instalación de R en Google Colab terminada\")"
      ],
      "metadata": {
        "id": "FeCB1oYxGmi0",
        "colab": {
          "base_uri": "https://localhost:8080/",
          "height": 158
        },
        "outputId": "d0fcf0c7-fbc9-40a6-9ce3-a7a73f93b59d"
      },
      "execution_count": 7,
      "outputs": [
        {
          "output_type": "error",
          "ename": "ERROR",
          "evalue": "ignored",
          "traceback": [
            "Error in parse(text = x, srcfile = src): <text>:4:10: unexpected symbol\n3: ### Instalación de R en notebooks de Google Colab ###\n4: !apt-get update\n            ^\nTraceback:\n"
          ]
        }
      ]
    },
    {
      "cell_type": "markdown",
      "source": [
        "* **Instalar/cargar librerias para la sesión**\n",
        "\n",
        "Instalaremos/cargaremos las librerias necesarias para la sesión práctica, para esto utilizaremos el paquete pacman, este paquete es una herramienta de administracion que combina funcionalidades de las funciones install.packages + library\n",
        "\n",
        "\n",
        "\n",
        "\n",
        "\n"
      ],
      "metadata": {
        "id": "QMFsFs-2KPCA"
      }
    },
    {
      "cell_type": "code",
      "source": [
        "install.packages(\"pacman\") # nos permite instalar/cargar paquetes de manera simultanea"
      ],
      "metadata": {
        "id": "Qhzv4rIHLHzm",
        "colab": {
          "base_uri": "https://localhost:8080/"
        },
        "outputId": "e8caa54a-e1f5-45a0-cf77-8ccc4f053504"
      },
      "execution_count": 3,
      "outputs": [
        {
          "output_type": "stream",
          "name": "stderr",
          "text": [
            "Installing package into ‘/usr/local/lib/R/site-library’\n",
            "(as ‘lib’ is unspecified)\n",
            "\n"
          ]
        }
      ]
    },
    {
      "cell_type": "markdown",
      "source": [
        "En el caso de algun problema para instalar las librerias `BiocManager` y `rexposome`(Warning message: , utilizaremos el siguiente código para instalarlas."
      ],
      "metadata": {
        "id": "MAyK8fqzLQ8u"
      }
    },
    {
      "cell_type": "code",
      "source": [
        "# Algunas librerias es necesario cargarlas directamente\n",
        "# BiocManager para la instalación de bibliotecas de análisis bioinformático\n",
        "# rexposome para la implementación de análisis descriptivos y secundarios en exposoma\n",
        "# Paquetes fundamentalES para el análisis del exposoma (tarda aproximadamente 12 minutos en instalarse)\n",
        "if (!require(\"BiocManager\", quietly = TRUE))\n",
        "    install.packages(\"BiocManager\")\n",
        "BiocManager::install(\"rexposome\")"
      ],
      "metadata": {
        "id": "MxnLKqmcGp6f"
      },
      "execution_count": null,
      "outputs": []
    },
    {
      "cell_type": "code",
      "source": [
        "# Añadimos todas las librerias que necesitemos utilizar (si el paquete ya esta instalado, automaticamente cargara el paquete si esta en la funcion pacman::p_load())\n",
        "pacman::p_load(tidyverse, corrplot, RColorBrewer, skimr, BiocManager, rexposome)"
      ],
      "metadata": {
        "id": "0bd6Fmjy7LNA"
      },
      "execution_count": null,
      "outputs": []
    },
    {
      "cell_type": "markdown",
      "source": [
        "## **2. Cargar los datos** <a name=\"cargar-datos\"></a>\n",
        "\n",
        "A continuación, se muestran las **líneas de código** necesarias para **cargar** en el entorno de R el conjunto de datos de Exposoma. Para esta sesión práctica utilizaremos datos del estudio de exposoma HELIX. El estudio HELIX es un projecto colaborativo entre seis estudios longitudinales de cohortes de nacimiento basados en la población de seis paises Europeos (Francia, Grecia, Lituania, Noruega, Españana y Reino Unido).\n",
        "\n",
        "<img src=\"https://github.com/alldominguez/ISGlobal.sesion4.Exposoma/blob/main/figures/HELIX.png?raw=1\" alt=\"HELIX logo\" width=\"500\"/>\n",
        "\n",
        "**Nota:** Los datos proporcionados en este curso introductorio fueron simulados a partir de los datos de la subcohorte HELIX. Detalles del projecto HELIX y el origen de los datos colectados pueden ser consultados en la siguiente publicación: https://bmjopen.bmj.com/content/8/9/e021311 y website: https://www.projecthelix.eu/es.\n",
        "\n",
        "* Los **datos de exposoma (n = 1301)** que utilizaremos estan contenidos en un archivo Rdata, el archivo contiene los siguientes ficheros:\n",
        "\n",
        "1. `phenotype` (outcomes)\n",
        "2. `exposome` (exposiciones)\n",
        "3. `covariates` (covariables)\n",
        "\n",
        "La descripción de cada variable (nombre, estructura, tipo de variable, transformacion, ...) esta detallada en el [codebook](https://github.com/alldominguez/ISGlobal.sesion4.Exposoma/blob/main/data/codebook.csv).\n",
        "\n",
        "\n",
        "La primera línea de cada fichero de datos (cabecera de la tabla) incluye los nombres de todas las variables separadas por comas, correspondiendo cada nombre con cada una de las columnas anteriormente mencionadas. Igualmente, para los archivos de fenotipos, covariables y exposoma, el resto de líneas del fichero (filas de la tabla) incluyen valores numéricos separados por comas (siendo de vital importancia que dicha información numérica vaya en formato inglés, porque los algoritmos que utilizaremos usan dicho formato y podrían confundir la coma de separación de datos con lo que sería la coma decimal en Español). A partir de la segunda línea del fichero, cada línea (fila de la tabla) contiene la información relativa a un niño. El tipo de fichero ideal para tal fin es el **CSV**, ya que puede ser fácilmente generado o editado desde *Microsoft Excel* u *OpenOffice Calc*. En nuestro caso, dado que han sido guardados Excel en español, debemos leerlos con la funcion read.csv2 (de tal forma que las comas sean codificadas de forma adecuada para su análisis posterior).\n",
        "\n",
        "Los datos se encuentran disponibles vía *Google Drive*. No obstante, si estuviésemos en local con *RStudio* y/o con otro fichero de datos, sólo tendríamos que cambiar *url(\"https://drive.google...\")* por *\\\"\\<Unidad\\>:\\\\\\<Ruta\\>\\\\\\<fichero\\>\\\"* (Ej: *\\\"C:\\\\Datos\\\\phenotype.csv\\\"* en el caso de un sistema operativo *Windows*)."
      ],
      "metadata": {
        "id": "DsoalTRZdIdV"
      }
    },
    {
      "cell_type": "code",
      "source": [
        "remove(phenotype)"
      ],
      "metadata": {
        "id": "9Zx5hH2rBOkc"
      },
      "execution_count": 75,
      "outputs": []
    },
    {
      "cell_type": "code",
      "source": [
        "remove(exposome)"
      ],
      "metadata": {
        "id": "K_CoygzhBSIQ"
      },
      "execution_count": 76,
      "outputs": []
    },
    {
      "cell_type": "code",
      "source": [
        "remove(covariates)"
      ],
      "metadata": {
        "id": "HLfLmDHpBVz6"
      },
      "execution_count": 77,
      "outputs": []
    },
    {
      "cell_type": "markdown",
      "source": [
        "**1.-** Cargamos los datos necesarios para la sesión"
      ],
      "metadata": {
        "id": "VSUqs-A60QcI"
      }
    },
    {
      "cell_type": "code",
      "source": [
        "# Opción 1 (cargamos las bases de datos como archivos csv)\n",
        "phenotype <- read.csv2(url(\"https://raw.githubusercontent.com/alldominguez/ISGlobal.sesion4.Exposoma/main/data/phenotype.csv\"),  header = TRUE) # outcomes\n",
        "exposome <- read.csv2(url(\"https://raw.githubusercontent.com/alldominguez/ISGlobal.sesion4.Exposoma/main/data/exposome.csv\"), header = TRUE) # exposiciones\n",
        "covariates <- read.csv2(url(\"https://raw.githubusercontent.com/alldominguez/ISGlobal.sesion4.Exposoma/main/data/covariates.csv\"), header = TRUE) # covariables\n",
        "codebook <- read.csv2(url(\"https://raw.githubusercontent.com/alldominguez/ISGlobal.sesion4.Exposoma/main/data/codebook.csv\")) # codebook"
      ],
      "metadata": {
        "id": "QdsjN_rcoB6i"
      },
      "execution_count": 136,
      "outputs": []
    },
    {
      "cell_type": "code",
      "source": [
        "# Opción 2 (cargamos un archivo RData, este archivo contiene los 3 dataset y los carga de manera automatica)\n",
        "load(url(\"https://raw.githubusercontent.com/alldominguez/ISGlobal.sesion4.Exposoma/main/data/exposome.RData\"))\n",
        "codebook <- read.csv2(url(\"https://raw.githubusercontent.com/alldominguez/ISGlobal.sesion4.Exposoma/main/data/codebook.csv\")) # codebook"
      ],
      "metadata": {
        "id": "b8Pc3sqpcpVN"
      },
      "execution_count": 152,
      "outputs": []
    },
    {
      "cell_type": "code",
      "source": [
        "phenotype\n",
        "exposome\n",
        "covariates\n",
        "codebook"
      ],
      "metadata": {
        "id": "TD37CVA45ObF"
      },
      "execution_count": null,
      "outputs": []
    },
    {
      "cell_type": "markdown",
      "source": [
        "**2.-** Revisamos la estructura y dimensión de los datos"
      ],
      "metadata": {
        "id": "F---b4Tg0nMC"
      }
    },
    {
      "cell_type": "code",
      "source": [
        "dplyr::glimpse(phenotype) # 1301 observaciones"
      ],
      "metadata": {
        "id": "V56avl4L0oIm",
        "colab": {
          "base_uri": "https://localhost:8080/"
        },
        "outputId": "a6c04066-2eac-45bc-848c-0a734e2d4eff"
      },
      "execution_count": 155,
      "outputs": [
        {
          "output_type": "stream",
          "name": "stdout",
          "text": [
            "Rows: 1,301\n",
            "Columns: 7\n",
            "$ ID               \u001b[3m\u001b[90m<int>\u001b[39m\u001b[23m 1, 2, 3, 4, 5, 6, 7, 8, 9, 10, 11, 12, 13, 14, 15, 16…\n",
            "$ e3_bw            \u001b[3m\u001b[90m<int>\u001b[39m\u001b[23m 4100, 4158, 4110, 3270, 3950, 2900, 3350, 3580, 3000,…\n",
            "$ hs_asthma        \u001b[3m\u001b[90m<dbl>\u001b[39m\u001b[23m 0, 0, 1, 0, 0, 1, 0, 1, 0, 1, 0, 0, 0, 0, 1, 0, 0, 0,…\n",
            "$ hs_zbmi_who      \u001b[3m\u001b[90m<dbl>\u001b[39m\u001b[23m 0.30, 0.41, 3.33, -0.76, 0.98, -0.08, 0.04, -0.10, -1…\n",
            "$ hs_correct_raven \u001b[3m\u001b[90m<int>\u001b[39m\u001b[23m 18, 25, 13, 28, 19, 19, 34, 16, 35, 32, 18, 24, 30, 3…\n",
            "$ hs_Gen_Tot       \u001b[3m\u001b[90m<dbl>\u001b[39m\u001b[23m 84.0000, 39.0000, 40.0000, 54.5000, 18.0000, 4.0000, …\n",
            "$ hs_bmi_c_cat     \u001b[3m\u001b[90m<fct>\u001b[39m\u001b[23m 2, 2, 4, 2, 2, 2, 2, 2, 2, 3, 4, 4, 2, 2, 4, 3, 2, 2,…\n"
          ]
        }
      ]
    },
    {
      "cell_type": "code",
      "source": [
        "dplyr::glimpse(exposome) # 1301 observaciones"
      ],
      "metadata": {
        "id": "M1HTY6qyiME0"
      },
      "execution_count": null,
      "outputs": []
    },
    {
      "cell_type": "code",
      "source": [
        "dplyr::glimpse(covariates) # 1301 observaciones"
      ],
      "metadata": {
        "id": "arEb9MuXiN3a",
        "colab": {
          "base_uri": "https://localhost:8080/"
        },
        "outputId": "31a2f17b-eba9-40ad-b4a6-a90c9d5da9b0"
      },
      "execution_count": 157,
      "outputs": [
        {
          "output_type": "stream",
          "name": "stdout",
          "text": [
            "Rows: 1,301\n",
            "Columns: 14\n",
            "$ ID                \u001b[3m\u001b[90m<int>\u001b[39m\u001b[23m 1, 2, 3, 4, 5, 6, 7, 8, 9, 10, 11, 12, 13, 14, 15, 1…\n",
            "$ h_cohort          \u001b[3m\u001b[90m<fct>\u001b[39m\u001b[23m 4, 4, 4, 2, 3, 1, 2, 1, 2, 1, 1, 3, 2, 2, 4, 4, 4, 4…\n",
            "$ e3_sex_None       \u001b[3m\u001b[90m<fct>\u001b[39m\u001b[23m male, male, male, female, male, female, male, female…\n",
            "$ e3_yearbir_None   \u001b[3m\u001b[90m<fct>\u001b[39m\u001b[23m 2008, 2007, 2008, 2005, 2005, 2007, 2003, 2008, 2004…\n",
            "$ h_mbmi_None       \u001b[3m\u001b[90m<dbl>\u001b[39m\u001b[23m 25.51020, 26.49151, 30.11621, 21.04805, 22.15102, 24…\n",
            "$ hs_wgtgain_None   \u001b[3m\u001b[90m<dbl>\u001b[39m\u001b[23m 17, 18, 11, 21, 20, 30, 20, 20, 12, 9, 10, 18, 5, 20…\n",
            "$ e3_gac_None       \u001b[3m\u001b[90m<dbl>\u001b[39m\u001b[23m 41.00000, 41.00000, 39.00000, 39.28571, 43.00000, 38…\n",
            "$ h_age_None        \u001b[3m\u001b[90m<dbl>\u001b[39m\u001b[23m 28.00000, 22.84155, 34.23242, 32.72553, 20.86516, 27…\n",
            "$ h_edumc_None      \u001b[3m\u001b[90m<fct>\u001b[39m\u001b[23m 2, 3, 3, 1, 1, 3, 1, 2, 2, 1, 3, 3, 3, 2, 2, 3, 3, 2…\n",
            "$ h_native_None     \u001b[3m\u001b[90m<fct>\u001b[39m\u001b[23m 2, 2, 2, 2, 2, 2, 2, 0, 2, 1, 0, 2, 2, 2, 2, 2, 2, 2…\n",
            "$ h_parity_None     \u001b[3m\u001b[90m<fct>\u001b[39m\u001b[23m 0, 1, 1, 1, 0, 0, 2, 0, 1, 2, 1, 1, 1, 0, 0, 2, 1, 1…\n",
            "$ hs_child_age_None \u001b[3m\u001b[90m<dbl>\u001b[39m\u001b[23m 6.165640, 6.992471, 6.110883, 10.138261, 9.451175, 6…\n",
            "$ hs_c_height_None  \u001b[3m\u001b[90m<dbl>\u001b[39m\u001b[23m 1.220, 1.220, 1.280, 1.345, 1.370, 1.130, 1.315, 1.2…\n",
            "$ hs_c_weight_None  \u001b[3m\u001b[90m<dbl>\u001b[39m\u001b[23m 23.4, 27.6, 37.5, 27.7, 34.0, 21.5, 29.8, 22.5, 24.3…\n"
          ]
        }
      ]
    },
    {
      "cell_type": "code",
      "source": [
        "dplyr::glimpse(codebook) # este archivo contiene el codebook con la descripción de cada variable"
      ],
      "metadata": {
        "id": "yj3AWIN2iOoM",
        "colab": {
          "base_uri": "https://localhost:8080/"
        },
        "outputId": "e541920e-c461-497b-b7a9-41b31305a22d"
      },
      "execution_count": 158,
      "outputs": [
        {
          "output_type": "stream",
          "name": "stdout",
          "text": [
            "Rows: 241\n",
            "Columns: 13\n",
            "$ X                \u001b[3m\u001b[90m<chr>\u001b[39m\u001b[23m \"h_abs_ratio_preg_Log\", \"h_no2_ratio_preg_Log\", \"h_pm…\n",
            "$ variable_name    \u001b[3m\u001b[90m<chr>\u001b[39m\u001b[23m \"h_abs_ratio_preg_Log\", \"h_no2_ratio_preg_Log\", \"h_pm…\n",
            "$ domain           \u001b[3m\u001b[90m<chr>\u001b[39m\u001b[23m \"Outdoor exposures\", \"Outdoor exposures\", \"Outdoor ex…\n",
            "$ family           \u001b[3m\u001b[90m<chr>\u001b[39m\u001b[23m \"Air Pollution\", \"Air Pollution\", \"Air Pollution\", \"A…\n",
            "$ subfamily        \u001b[3m\u001b[90m<chr>\u001b[39m\u001b[23m \"PMAbsorbance\", \"NO2\", \"PM10\", \"PM2.5\", \"NO2\", \"NO2\",…\n",
            "$ period           \u001b[3m\u001b[90m<chr>\u001b[39m\u001b[23m \"Pregnancy\", \"Pregnancy\", \"Pregnancy\", \"Pregnancy\", \"…\n",
            "$ location         \u001b[3m\u001b[90m<chr>\u001b[39m\u001b[23m \"Home\", \"Home\", \"Home\", \"Home\", \"Home\", \"Home\", \"Home…\n",
            "$ period_postnatal \u001b[3m\u001b[90m<chr>\u001b[39m\u001b[23m NA, NA, NA, NA, \"Day before examination\", \"Week befor…\n",
            "$ description      \u001b[3m\u001b[90m<chr>\u001b[39m\u001b[23m \"abs value (extrapolated back in time using ratio met…\n",
            "$ var_type         \u001b[3m\u001b[90m<chr>\u001b[39m\u001b[23m \"numeric\", \"numeric\", \"numeric\", \"numeric\", \"numeric\"…\n",
            "$ transformation   \u001b[3m\u001b[90m<chr>\u001b[39m\u001b[23m \"Natural Logarithm\", \"Natural Logarithm\", \"None\", \"No…\n",
            "$ labels           \u001b[3m\u001b[90m<chr>\u001b[39m\u001b[23m \"PMabs\", \"NO2\", \"PM10\", \"PM2.5\", \"NO2(day)\", \"NO2(wee…\n",
            "$ labelsshort      \u001b[3m\u001b[90m<chr>\u001b[39m\u001b[23m \"PMabs\", \"NO2\", \"PM10\", \"PM2.5\", \"NO2(day)\", \"NO2(wee…\n"
          ]
        }
      ]
    },
    {
      "cell_type": "code",
      "source": [
        "rownames(codebook) <- codebook[, 2]\n",
        "codebook <- codebook[, -1]"
      ],
      "metadata": {
        "id": "QE17_rg4EmFK"
      },
      "execution_count": 159,
      "outputs": []
    },
    {
      "cell_type": "code",
      "source": [
        "dplyr::glimpse(codebook)"
      ],
      "metadata": {
        "colab": {
          "base_uri": "https://localhost:8080/"
        },
        "id": "eqBMjplwE78X",
        "outputId": "aaea0e92-b22b-4d19-e9b3-8997e890a39d"
      },
      "execution_count": 160,
      "outputs": [
        {
          "output_type": "stream",
          "name": "stdout",
          "text": [
            "Rows: 241\n",
            "Columns: 12\n",
            "$ variable_name    \u001b[3m\u001b[90m<chr>\u001b[39m\u001b[23m \"h_abs_ratio_preg_Log\", \"h_no2_ratio_preg_Log\", \"h_pm…\n",
            "$ domain           \u001b[3m\u001b[90m<chr>\u001b[39m\u001b[23m \"Outdoor exposures\", \"Outdoor exposures\", \"Outdoor ex…\n",
            "$ family           \u001b[3m\u001b[90m<chr>\u001b[39m\u001b[23m \"Air Pollution\", \"Air Pollution\", \"Air Pollution\", \"A…\n",
            "$ subfamily        \u001b[3m\u001b[90m<chr>\u001b[39m\u001b[23m \"PMAbsorbance\", \"NO2\", \"PM10\", \"PM2.5\", \"NO2\", \"NO2\",…\n",
            "$ period           \u001b[3m\u001b[90m<chr>\u001b[39m\u001b[23m \"Pregnancy\", \"Pregnancy\", \"Pregnancy\", \"Pregnancy\", \"…\n",
            "$ location         \u001b[3m\u001b[90m<chr>\u001b[39m\u001b[23m \"Home\", \"Home\", \"Home\", \"Home\", \"Home\", \"Home\", \"Home…\n",
            "$ period_postnatal \u001b[3m\u001b[90m<chr>\u001b[39m\u001b[23m NA, NA, NA, NA, \"Day before examination\", \"Week befor…\n",
            "$ description      \u001b[3m\u001b[90m<chr>\u001b[39m\u001b[23m \"abs value (extrapolated back in time using ratio met…\n",
            "$ var_type         \u001b[3m\u001b[90m<chr>\u001b[39m\u001b[23m \"numeric\", \"numeric\", \"numeric\", \"numeric\", \"numeric\"…\n",
            "$ transformation   \u001b[3m\u001b[90m<chr>\u001b[39m\u001b[23m \"Natural Logarithm\", \"Natural Logarithm\", \"None\", \"No…\n",
            "$ labels           \u001b[3m\u001b[90m<chr>\u001b[39m\u001b[23m \"PMabs\", \"NO2\", \"PM10\", \"PM2.5\", \"NO2(day)\", \"NO2(wee…\n",
            "$ labelsshort      \u001b[3m\u001b[90m<chr>\u001b[39m\u001b[23m \"PMabs\", \"NO2\", \"PM10\", \"PM2.5\", \"NO2(day)\", \"NO2(wee…\n"
          ]
        }
      ]
    },
    {
      "cell_type": "code",
      "source": [
        "codebook"
      ],
      "metadata": {
        "id": "o3LpucTvGN9L"
      },
      "execution_count": null,
      "outputs": []
    },
    {
      "cell_type": "markdown",
      "source": [
        "**3.-** Hacemos un resumen rápido de nuestros datos, para revisar si estos se cargaron correctamente."
      ],
      "metadata": {
        "id": "5n4_4MiACEFw"
      }
    },
    {
      "cell_type": "code",
      "source": [
        "skimr::skim(phenotype)"
      ],
      "metadata": {
        "id": "T6wYtacMCCas"
      },
      "execution_count": null,
      "outputs": []
    },
    {
      "cell_type": "code",
      "source": [
        "skimr::skim(exposome)"
      ],
      "metadata": {
        "id": "zdlJMI0YDK07"
      },
      "execution_count": null,
      "outputs": []
    },
    {
      "cell_type": "code",
      "source": [
        "skimr::skim(covariates)"
      ],
      "metadata": {
        "id": "C6MSLwyDDTIq"
      },
      "execution_count": null,
      "outputs": []
    },
    {
      "cell_type": "markdown",
      "source": [
        "Vamos a utilizar la función `rexposome::loadExposome` para crear un solo dataset (`ExposomeSet`) a traves de los `data.frames` que cargamos inicialmente. Primero realizaremos un subset de las variables para fines ilustrativos.\n"
      ],
      "metadata": {
        "id": "MXHfytb70y_9"
      }
    },
    {
      "cell_type": "code",
      "source": [
        "expo.list <- as.character(codebook$variable_name[(codebook$family==\"Organochlorines\" |\n",
        "                                codebook$family==\"Metals\" |\n",
        "                                codebook$family==\"Built environment\") &\n",
        "                                codebook$period==\"Postnatal\"])"
      ],
      "metadata": {
        "id": "MLP0jS6y036s"
      },
      "execution_count": 163,
      "outputs": []
    },
    {
      "cell_type": "code",
      "source": [
        "# podemos elimar algunas variables que no sean de nuestro interes\n",
        "expo.list <- expo.list[-which(expo.list==\"hs_tl_cdich_None\")]\n",
        "expo.list <- expo.list[-which(expo.list==\"hs_sumPCBs5_cadj_Log2\")]"
      ],
      "metadata": {
        "id": "qrXwaUJyDClV"
      },
      "execution_count": 164,
      "outputs": []
    },
    {
      "cell_type": "code",
      "source": [
        "expo2 = exposome[,c(\"ID\",expo.list)]"
      ],
      "metadata": {
        "id": "dpN23_pLDE6G"
      },
      "execution_count": 165,
      "outputs": []
    },
    {
      "cell_type": "code",
      "source": [
        "codebook[expo.list,]$labels"
      ],
      "metadata": {
        "id": "wj_KEEH44yh4"
      },
      "execution_count": null,
      "outputs": []
    },
    {
      "cell_type": "code",
      "source": [
        "dat <- cbind(hs_zbmi_who = phenotype[,4],covariates[,2:13])\n",
        "data <- data.frame(expo2,dat)"
      ],
      "metadata": {
        "id": "14mKhYaK9TSY"
      },
      "execution_count": 167,
      "outputs": []
    },
    {
      "cell_type": "code",
      "source": [
        "exp <- loadExposome(\n",
        "  exposures = expo2[expo.list],\n",
        "  description = codebook[expo.list,],\n",
        "  phenotype = dat,\n",
        "  description.famCol = \"family\"\n",
        "  )"
      ],
      "metadata": {
        "id": "mSPZXNs64c1I"
      },
      "execution_count": 168,
      "outputs": []
    },
    {
      "cell_type": "markdown",
      "source": [
        "Ahora crearemos nuestro objecto `ExposomeSet` combinando nuestros tres archivos que trabajamos en las líneas anteriores."
      ],
      "metadata": {
        "id": "wGYELXL585Pq"
      }
    },
    {
      "cell_type": "markdown",
      "source": [
        "## **3.- Análisis descriptivo del Exposoma** <a name=\"descriptivo\"></a>\n",
        "\n",
        "Vamos a utilizar la función `rexposome::loadExposome` para crear un solo dataset (ExposomeSet) a traves de los 3 ficheros que cargamos inicialmente"
      ],
      "metadata": {
        "id": "p4hBPIMPn1_i"
      }
    },
    {
      "cell_type": "code",
      "source": [],
      "metadata": {
        "id": "pX6Uq68Q0Emz"
      },
      "execution_count": null,
      "outputs": []
    }
  ]
}