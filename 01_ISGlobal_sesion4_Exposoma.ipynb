{
  "nbformat": 4,
  "nbformat_minor": 0,
  "metadata": {
    "colab": {
      "provenance": [],
      "authorship_tag": "ABX9TyNaNhN4h67HOt3b7w38m2py",
      "include_colab_link": true
    },
    "kernelspec": {
      "name": "python3",
      "display_name": "Python 3"
    },
    "language_info": {
      "name": "python"
    }
  },
  "cells": [
    {
      "cell_type": "markdown",
      "metadata": {
        "id": "view-in-github",
        "colab_type": "text"
      },
      "source": [
        "<a href=\"https://colab.research.google.com/github/alldominguez/ISGlobal.sesion4.Exposoma/blob/main/01_ISGlobal_sesion4_Exposoma.ipynb\" target=\"_parent\"><img src=\"https://colab.research.google.com/assets/colab-badge.svg\" alt=\"Open In Colab\"/></a>"
      ]
    },
    {
      "cell_type": "markdown",
      "source": [
        "# Sesión 4: Estrategias para el análisis de datos de Exposoma."
      ],
      "metadata": {
        "id": "B9YXt-H1IAZ0"
      }
    },
    {
      "cell_type": "markdown",
      "source": [
        "\\\n",
        "<img height=\"140\" src=\"https://raw.githubusercontent.com/alldominguez/ISGlobal.sesion4.Exposoma/main/figures/isglobal.png\">\n",
        "\n",
        "\\"
      ],
      "metadata": {
        "id": "DO6S3vkDihnH"
      }
    },
    {
      "cell_type": "markdown",
      "source": [
        "Esta sesión práctica forma parte del curso Introducción al concepto del Exposoma y sus metodologías. En esta sesión se ofrecerá a los estudiantes una introducción a los distintos abordajes estádisticos necesarios para responder a las principales cuestiones de investigación en exposoma.\n",
        "\n",
        "El contenido de esta sesión esta orientada hacia aquellos que tienen conocimientos básicos sobre progración en R.\n",
        "\n",
        "La sesíon esta dividida en dos partes:\n",
        "\n",
        "1. Análsis descriptivo\n",
        "2. Análsiis de asociación\n",
        "\n",
        "\n"
      ],
      "metadata": {
        "id": "k0scprHMyaCq"
      }
    },
    {
      "cell_type": "code",
      "source": [],
      "metadata": {
        "id": "r7T8YnXeH2v4"
      },
      "execution_count": null,
      "outputs": []
    }
  ]
}