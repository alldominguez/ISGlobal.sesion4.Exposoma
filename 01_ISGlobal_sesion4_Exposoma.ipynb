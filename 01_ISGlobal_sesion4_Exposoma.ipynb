{
  "nbformat": 4,
  "nbformat_minor": 0,
  "metadata": {
    "colab": {
      "provenance": [],
      "toc_visible": true,
      "authorship_tag": "ABX9TyOMVEIOx9/wo6UTdelFF9x1",
      "include_colab_link": true
    },
    "kernelspec": {
      "name": "python3",
      "display_name": "Python 3"
    },
    "language_info": {
      "name": "python"
    }
  },
  "cells": [
    {
      "cell_type": "markdown",
      "metadata": {
        "id": "view-in-github",
        "colab_type": "text"
      },
      "source": [
        "<a href=\"https://colab.research.google.com/github/alldominguez/ISGlobal.sesion4.Exposoma/blob/main/01_ISGlobal_sesion4_Exposoma.ipynb\" target=\"_parent\"><img src=\"https://colab.research.google.com/assets/colab-badge.svg\" alt=\"Open In Colab\"/></a>"
      ]
    },
    {
      "cell_type": "markdown",
      "source": [
        "# ¡Bienvenido a la sesión 4 del curso Introducción al concepto del Exposoma y sus metodologías!"
      ],
      "metadata": {
        "id": "B9YXt-H1IAZ0"
      }
    },
    {
      "cell_type": "markdown",
      "source": [
        "En esta sesión práctica revisaremos las estrategias  utilizadas para el análisis de datos exposoma para la investigación en exposoma."
      ],
      "metadata": {
        "id": "P6ERVRchUY1q"
      }
    },
    {
      "cell_type": "code",
      "source": [],
      "metadata": {
        "id": "r7T8YnXeH2v4"
      },
      "execution_count": null,
      "outputs": []
    }
  ]
}